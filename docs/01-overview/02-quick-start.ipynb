{
 "cells": [
  {
   "cell_type": "markdown",
   "metadata": {},
   "source": [
    "# Início Rápido Haystack"
   ]
  },
  {
   "cell_type": "markdown",
   "metadata": {},
   "source": [
    "## 1. Iniciar\n",
    "\n",
    "Haystack é um framework Python de código aberto que ajuda os desenvolvedores a construir aplicativos personalizados com tecnologia LLM. Em março de 2024, lançaram o Haystack 2.0, uma atualização significativa. Para obter mais informações sobre o Haystack 2.0, é possível ler o [post de anúncio](https://haystack.deepset.ai/blog/haystack-2-release)."
   ]
  },
  {
   "cell_type": "markdown",
   "metadata": {},
   "source": [
    "## 2. Instalação\n",
    "\n",
    "Use pip para instalar o Haystack:"
   ]
  },
  {
   "cell_type": "code",
   "execution_count": 2,
   "metadata": {},
   "outputs": [
    {
     "name": "stdout",
     "output_type": "stream",
     "text": [
      "Requirement already satisfied: haystack-ai in /home/tanabe/tech4humans/iag-labs-haystack/venv/lib/python3.10/site-packages (2.0.0)\n",
      "Requirement already satisfied: typing-extensions>=4.7 in /home/tanabe/tech4humans/iag-labs-haystack/venv/lib/python3.10/site-packages (from haystack-ai) (4.10.0)\n",
      "Requirement already satisfied: more-itertools in /home/tanabe/tech4humans/iag-labs-haystack/venv/lib/python3.10/site-packages (from haystack-ai) (10.2.0)\n",
      "Requirement already satisfied: jinja2 in /home/tanabe/tech4humans/iag-labs-haystack/venv/lib/python3.10/site-packages (from haystack-ai) (3.1.3)\n",
      "Requirement already satisfied: lazy-imports in /home/tanabe/tech4humans/iag-labs-haystack/venv/lib/python3.10/site-packages (from haystack-ai) (0.3.1)\n",
      "Requirement already satisfied: numpy in /home/tanabe/tech4humans/iag-labs-haystack/venv/lib/python3.10/site-packages (from haystack-ai) (1.26.4)\n",
      "Requirement already satisfied: pandas in /home/tanabe/tech4humans/iag-labs-haystack/venv/lib/python3.10/site-packages (from haystack-ai) (2.2.1)\n",
      "Requirement already satisfied: tqdm in /home/tanabe/tech4humans/iag-labs-haystack/venv/lib/python3.10/site-packages (from haystack-ai) (4.66.2)\n",
      "Requirement already satisfied: openai>=1.1.0 in /home/tanabe/tech4humans/iag-labs-haystack/venv/lib/python3.10/site-packages (from haystack-ai) (1.13.3)\n",
      "Requirement already satisfied: haystack-bm25 in /home/tanabe/tech4humans/iag-labs-haystack/venv/lib/python3.10/site-packages (from haystack-ai) (1.0.2)\n",
      "Requirement already satisfied: boilerpy3 in /home/tanabe/tech4humans/iag-labs-haystack/venv/lib/python3.10/site-packages (from haystack-ai) (1.0.7)\n",
      "Requirement already satisfied: python-dateutil in /home/tanabe/tech4humans/iag-labs-haystack/venv/lib/python3.10/site-packages (from haystack-ai) (2.9.0.post0)\n",
      "Requirement already satisfied: networkx in /home/tanabe/tech4humans/iag-labs-haystack/venv/lib/python3.10/site-packages (from haystack-ai) (3.2.1)\n",
      "Requirement already satisfied: posthog in /home/tanabe/tech4humans/iag-labs-haystack/venv/lib/python3.10/site-packages (from haystack-ai) (3.5.0)\n",
      "Requirement already satisfied: pyyaml in /home/tanabe/tech4humans/iag-labs-haystack/venv/lib/python3.10/site-packages (from haystack-ai) (6.0.1)\n",
      "Requirement already satisfied: tenacity in /home/tanabe/tech4humans/iag-labs-haystack/venv/lib/python3.10/site-packages (from haystack-ai) (8.2.3)\n",
      "Requirement already satisfied: requests in /home/tanabe/tech4humans/iag-labs-haystack/venv/lib/python3.10/site-packages (from haystack-ai) (2.31.0)\n",
      "Requirement already satisfied: pydantic<3,>=1.9.0 in /home/tanabe/tech4humans/iag-labs-haystack/venv/lib/python3.10/site-packages (from openai>=1.1.0->haystack-ai) (2.6.4)\n",
      "Requirement already satisfied: distro<2,>=1.7.0 in /home/tanabe/tech4humans/iag-labs-haystack/venv/lib/python3.10/site-packages (from openai>=1.1.0->haystack-ai) (1.9.0)\n",
      "Requirement already satisfied: anyio<5,>=3.5.0 in /home/tanabe/tech4humans/iag-labs-haystack/venv/lib/python3.10/site-packages (from openai>=1.1.0->haystack-ai) (4.3.0)\n",
      "Requirement already satisfied: sniffio in /home/tanabe/tech4humans/iag-labs-haystack/venv/lib/python3.10/site-packages (from openai>=1.1.0->haystack-ai) (1.3.1)\n",
      "Requirement already satisfied: httpx<1,>=0.23.0 in /home/tanabe/tech4humans/iag-labs-haystack/venv/lib/python3.10/site-packages (from openai>=1.1.0->haystack-ai) (0.27.0)\n",
      "Requirement already satisfied: MarkupSafe>=2.0 in /home/tanabe/tech4humans/iag-labs-haystack/venv/lib/python3.10/site-packages (from jinja2->haystack-ai) (2.1.5)\n",
      "Requirement already satisfied: tzdata>=2022.7 in /home/tanabe/tech4humans/iag-labs-haystack/venv/lib/python3.10/site-packages (from pandas->haystack-ai) (2024.1)\n",
      "Requirement already satisfied: pytz>=2020.1 in /home/tanabe/tech4humans/iag-labs-haystack/venv/lib/python3.10/site-packages (from pandas->haystack-ai) (2024.1)\n",
      "Requirement already satisfied: six>=1.5 in /home/tanabe/tech4humans/iag-labs-haystack/venv/lib/python3.10/site-packages (from python-dateutil->haystack-ai) (1.16.0)\n",
      "Requirement already satisfied: backoff>=1.10.0 in /home/tanabe/tech4humans/iag-labs-haystack/venv/lib/python3.10/site-packages (from posthog->haystack-ai) (2.2.1)\n",
      "Requirement already satisfied: monotonic>=1.5 in /home/tanabe/tech4humans/iag-labs-haystack/venv/lib/python3.10/site-packages (from posthog->haystack-ai) (1.6)\n",
      "Requirement already satisfied: charset-normalizer<4,>=2 in /home/tanabe/tech4humans/iag-labs-haystack/venv/lib/python3.10/site-packages (from requests->haystack-ai) (3.3.2)\n",
      "Requirement already satisfied: idna<4,>=2.5 in /home/tanabe/tech4humans/iag-labs-haystack/venv/lib/python3.10/site-packages (from requests->haystack-ai) (3.6)\n",
      "Requirement already satisfied: urllib3<3,>=1.21.1 in /home/tanabe/tech4humans/iag-labs-haystack/venv/lib/python3.10/site-packages (from requests->haystack-ai) (2.2.1)\n",
      "Requirement already satisfied: certifi>=2017.4.17 in /home/tanabe/tech4humans/iag-labs-haystack/venv/lib/python3.10/site-packages (from requests->haystack-ai) (2024.2.2)\n",
      "Requirement already satisfied: exceptiongroup>=1.0.2 in /home/tanabe/tech4humans/iag-labs-haystack/venv/lib/python3.10/site-packages (from anyio<5,>=3.5.0->openai>=1.1.0->haystack-ai) (1.2.0)\n",
      "Requirement already satisfied: httpcore==1.* in /home/tanabe/tech4humans/iag-labs-haystack/venv/lib/python3.10/site-packages (from httpx<1,>=0.23.0->openai>=1.1.0->haystack-ai) (1.0.4)\n",
      "Requirement already satisfied: h11<0.15,>=0.13 in /home/tanabe/tech4humans/iag-labs-haystack/venv/lib/python3.10/site-packages (from httpcore==1.*->httpx<1,>=0.23.0->openai>=1.1.0->haystack-ai) (0.14.0)\n",
      "Requirement already satisfied: annotated-types>=0.4.0 in /home/tanabe/tech4humans/iag-labs-haystack/venv/lib/python3.10/site-packages (from pydantic<3,>=1.9.0->openai>=1.1.0->haystack-ai) (0.6.0)\n",
      "Requirement already satisfied: pydantic-core==2.16.3 in /home/tanabe/tech4humans/iag-labs-haystack/venv/lib/python3.10/site-packages (from pydantic<3,>=1.9.0->openai>=1.1.0->haystack-ai) (2.16.3)\n",
      "Note: you may need to restart the kernel to use updated packages.\n"
     ]
    }
   ],
   "source": [
    "pip install haystack-ai"
   ]
  },
  {
   "cell_type": "markdown",
   "metadata": {},
   "source": [
    "Para mais detalhes, consulte a [documentação da instalação](https://docs.haystack.deepset.ai/docs/installation?utm_campaign=developer-relations&utm_source=haystack&utm_medium=website)."
   ]
  },
  {
   "cell_type": "markdown",
   "metadata": {},
   "source": [
    "## 3. Fazer perguntas a uma página da web\n",
    "\n",
    "Este é um pipeline muito simples que pode responder perguntas sobre o conteúdo de uma página web. Ele usa GPT-3.5-Turbo com o OpenAIGenerator."
   ]
  },
  {
   "cell_type": "markdown",
   "metadata": {},
   "source": [
    "Primeiro, instale o Haystack:"
   ]
  },
  {
   "cell_type": "code",
   "execution_count": 3,
   "metadata": {},
   "outputs": [
    {
     "name": "stdout",
     "output_type": "stream",
     "text": [
      "Requirement already satisfied: haystack-ai in /home/tanabe/tech4humans/iag-labs-haystack/venv/lib/python3.10/site-packages (2.0.0)\n",
      "Requirement already satisfied: requests in /home/tanabe/tech4humans/iag-labs-haystack/venv/lib/python3.10/site-packages (from haystack-ai) (2.31.0)\n",
      "Requirement already satisfied: pandas in /home/tanabe/tech4humans/iag-labs-haystack/venv/lib/python3.10/site-packages (from haystack-ai) (2.2.1)\n",
      "Requirement already satisfied: lazy-imports in /home/tanabe/tech4humans/iag-labs-haystack/venv/lib/python3.10/site-packages (from haystack-ai) (0.3.1)\n",
      "Requirement already satisfied: numpy in /home/tanabe/tech4humans/iag-labs-haystack/venv/lib/python3.10/site-packages (from haystack-ai) (1.26.4)\n",
      "Requirement already satisfied: haystack-bm25 in /home/tanabe/tech4humans/iag-labs-haystack/venv/lib/python3.10/site-packages (from haystack-ai) (1.0.2)\n",
      "Requirement already satisfied: posthog in /home/tanabe/tech4humans/iag-labs-haystack/venv/lib/python3.10/site-packages (from haystack-ai) (3.5.0)\n",
      "Requirement already satisfied: typing-extensions>=4.7 in /home/tanabe/tech4humans/iag-labs-haystack/venv/lib/python3.10/site-packages (from haystack-ai) (4.10.0)\n",
      "Requirement already satisfied: tenacity in /home/tanabe/tech4humans/iag-labs-haystack/venv/lib/python3.10/site-packages (from haystack-ai) (8.2.3)\n",
      "Requirement already satisfied: networkx in /home/tanabe/tech4humans/iag-labs-haystack/venv/lib/python3.10/site-packages (from haystack-ai) (3.2.1)\n",
      "Requirement already satisfied: pyyaml in /home/tanabe/tech4humans/iag-labs-haystack/venv/lib/python3.10/site-packages (from haystack-ai) (6.0.1)\n",
      "Requirement already satisfied: jinja2 in /home/tanabe/tech4humans/iag-labs-haystack/venv/lib/python3.10/site-packages (from haystack-ai) (3.1.3)\n",
      "Requirement already satisfied: python-dateutil in /home/tanabe/tech4humans/iag-labs-haystack/venv/lib/python3.10/site-packages (from haystack-ai) (2.9.0.post0)\n",
      "Requirement already satisfied: openai>=1.1.0 in /home/tanabe/tech4humans/iag-labs-haystack/venv/lib/python3.10/site-packages (from haystack-ai) (1.13.3)\n",
      "Requirement already satisfied: boilerpy3 in /home/tanabe/tech4humans/iag-labs-haystack/venv/lib/python3.10/site-packages (from haystack-ai) (1.0.7)\n",
      "Requirement already satisfied: tqdm in /home/tanabe/tech4humans/iag-labs-haystack/venv/lib/python3.10/site-packages (from haystack-ai) (4.66.2)\n",
      "Requirement already satisfied: more-itertools in /home/tanabe/tech4humans/iag-labs-haystack/venv/lib/python3.10/site-packages (from haystack-ai) (10.2.0)\n",
      "Requirement already satisfied: httpx<1,>=0.23.0 in /home/tanabe/tech4humans/iag-labs-haystack/venv/lib/python3.10/site-packages (from openai>=1.1.0->haystack-ai) (0.27.0)\n",
      "Requirement already satisfied: pydantic<3,>=1.9.0 in /home/tanabe/tech4humans/iag-labs-haystack/venv/lib/python3.10/site-packages (from openai>=1.1.0->haystack-ai) (2.6.4)\n",
      "Requirement already satisfied: sniffio in /home/tanabe/tech4humans/iag-labs-haystack/venv/lib/python3.10/site-packages (from openai>=1.1.0->haystack-ai) (1.3.1)\n",
      "Requirement already satisfied: distro<2,>=1.7.0 in /home/tanabe/tech4humans/iag-labs-haystack/venv/lib/python3.10/site-packages (from openai>=1.1.0->haystack-ai) (1.9.0)\n",
      "Requirement already satisfied: anyio<5,>=3.5.0 in /home/tanabe/tech4humans/iag-labs-haystack/venv/lib/python3.10/site-packages (from openai>=1.1.0->haystack-ai) (4.3.0)\n",
      "Requirement already satisfied: MarkupSafe>=2.0 in /home/tanabe/tech4humans/iag-labs-haystack/venv/lib/python3.10/site-packages (from jinja2->haystack-ai) (2.1.5)\n",
      "Requirement already satisfied: pytz>=2020.1 in /home/tanabe/tech4humans/iag-labs-haystack/venv/lib/python3.10/site-packages (from pandas->haystack-ai) (2024.1)\n",
      "Requirement already satisfied: tzdata>=2022.7 in /home/tanabe/tech4humans/iag-labs-haystack/venv/lib/python3.10/site-packages (from pandas->haystack-ai) (2024.1)\n",
      "Requirement already satisfied: six>=1.5 in /home/tanabe/tech4humans/iag-labs-haystack/venv/lib/python3.10/site-packages (from python-dateutil->haystack-ai) (1.16.0)\n",
      "Requirement already satisfied: backoff>=1.10.0 in /home/tanabe/tech4humans/iag-labs-haystack/venv/lib/python3.10/site-packages (from posthog->haystack-ai) (2.2.1)\n",
      "Requirement already satisfied: monotonic>=1.5 in /home/tanabe/tech4humans/iag-labs-haystack/venv/lib/python3.10/site-packages (from posthog->haystack-ai) (1.6)\n",
      "Requirement already satisfied: charset-normalizer<4,>=2 in /home/tanabe/tech4humans/iag-labs-haystack/venv/lib/python3.10/site-packages (from requests->haystack-ai) (3.3.2)\n",
      "Requirement already satisfied: urllib3<3,>=1.21.1 in /home/tanabe/tech4humans/iag-labs-haystack/venv/lib/python3.10/site-packages (from requests->haystack-ai) (2.2.1)\n",
      "Requirement already satisfied: certifi>=2017.4.17 in /home/tanabe/tech4humans/iag-labs-haystack/venv/lib/python3.10/site-packages (from requests->haystack-ai) (2024.2.2)\n",
      "Requirement already satisfied: idna<4,>=2.5 in /home/tanabe/tech4humans/iag-labs-haystack/venv/lib/python3.10/site-packages (from requests->haystack-ai) (3.6)\n",
      "Requirement already satisfied: exceptiongroup>=1.0.2 in /home/tanabe/tech4humans/iag-labs-haystack/venv/lib/python3.10/site-packages (from anyio<5,>=3.5.0->openai>=1.1.0->haystack-ai) (1.2.0)\n",
      "Requirement already satisfied: httpcore==1.* in /home/tanabe/tech4humans/iag-labs-haystack/venv/lib/python3.10/site-packages (from httpx<1,>=0.23.0->openai>=1.1.0->haystack-ai) (1.0.4)\n",
      "Requirement already satisfied: h11<0.15,>=0.13 in /home/tanabe/tech4humans/iag-labs-haystack/venv/lib/python3.10/site-packages (from httpcore==1.*->httpx<1,>=0.23.0->openai>=1.1.0->haystack-ai) (0.14.0)\n",
      "Requirement already satisfied: annotated-types>=0.4.0 in /home/tanabe/tech4humans/iag-labs-haystack/venv/lib/python3.10/site-packages (from pydantic<3,>=1.9.0->openai>=1.1.0->haystack-ai) (0.6.0)\n",
      "Requirement already satisfied: pydantic-core==2.16.3 in /home/tanabe/tech4humans/iag-labs-haystack/venv/lib/python3.10/site-packages (from pydantic<3,>=1.9.0->openai>=1.1.0->haystack-ai) (2.16.3)\n",
      "Note: you may need to restart the kernel to use updated packages.\n"
     ]
    }
   ],
   "source": [
    "pip install haystack-ai"
   ]
  },
  {
   "cell_type": "markdown",
   "metadata": {},
   "source": [
    "### Formas de Usar o Haystack (Simplicidade vs. Flexibilidade)"
   ]
  },
  {
   "cell_type": "markdown",
   "metadata": {},
   "source": [
    "#### Simplicidade"
   ]
  },
  {
   "cell_type": "code",
   "execution_count": 4,
   "metadata": {},
   "outputs": [
    {
     "name": "stdout",
     "output_type": "stream",
     "text": [
      "Você pode instalar o Haystack utilizando o comando 'pip install haystack-ai'. Certifique-se de ter o Python e o pip instalados em seu ambiente antes de executar este comando.\"\n"
     ]
    }
   ],
   "source": [
    "# SIMPLICIDADE\n",
    "\n",
    "import os\n",
    "from dotenv import load_dotenv\n",
    "from haystack import Pipeline, PredefinedPipeline\n",
    "\n",
    "load_dotenv()\n",
    "api_key = os.environ['OPENAI_API_KEY']\n",
    "\n",
    "pipeline = Pipeline.from_template(PredefinedPipeline.CHAT_WITH_WEBSITE)\n",
    "result = pipeline.run({\n",
    "    \"fetcher\": {\"urls\": [\"https://haystack.deepset.ai/overview/quick-start\"]},\n",
    "    \"prompt\": {\"query\": \"Responda em português, como eu posso instalar o Haystack?\"}}\n",
    ")\n",
    "print(result[\"llm\"][\"replies\"][0])"
   ]
  },
  {
   "cell_type": "markdown",
   "metadata": {},
   "source": [
    "#### Flexibilidade"
   ]
  },
  {
   "cell_type": "code",
   "execution_count": 8,
   "metadata": {},
   "outputs": [
    {
     "name": "stdout",
     "output_type": "stream",
     "text": [
      "Para construir seu primeiro pipeline RAG com o Haystack, você precisa de três componentes principais: um Retriever, um PromptBuilder e um Generator. Você pode conectar esses componentes para criar um pipeline de Recuperação com Geração Aprimorada (RAG) que permitirá que você faça perguntas sobre documentos e obtenha respostas baseadas em modelos de linguagem. Siga as instruções fornecidas acima para instalar o Haystack, indexar seus documentos e executar consultas usando a abordagem RAG.\n"
     ]
    }
   ],
   "source": [
    "# FLEXIBILIDADE\n",
    "\n",
    "import os\n",
    "from dotenv import load_dotenv\n",
    "from haystack import Pipeline\n",
    "from haystack.components.fetchers import LinkContentFetcher\n",
    "from haystack.components.converters import HTMLToDocument\n",
    "from haystack.components.builders import PromptBuilder\n",
    "\n",
    "load_dotenv()\n",
    "api_key = os.environ['OPENAI_API_KEY']\n",
    "\n",
    "fetcher = LinkContentFetcher()\n",
    "converter = HTMLToDocument()\n",
    "prompt_template = \"\"\"\n",
    "According to the contents of this website:\n",
    "{% for document in documents %}\n",
    "  {{document.content}}\n",
    "{% endfor %}\n",
    "Answer the given question: {{query}}\n",
    "Answer:\n",
    "\"\"\"\n",
    "prompt_builder = PromptBuilder(template=prompt_template)\n",
    "llm = OpenAIGenerator()\n",
    "\n",
    "pipeline = Pipeline()\n",
    "pipeline.add_component(\"fetcher\", fetcher)\n",
    "pipeline.add_component(\"converter\", converter)\n",
    "pipeline.add_component(\"prompt\", prompt_builder)\n",
    "pipeline.add_component(\"llm\", llm)\n",
    "\n",
    "pipeline.connect(\"fetcher.streams\", \"converter.sources\")\n",
    "pipeline.connect(\"converter.documents\", \"prompt.documents\")\n",
    "pipeline.connect(\"prompt.prompt\", \"llm.prompt\")\n",
    "\n",
    "result = pipeline.run({\"fetcher\": {\"urls\": [\"https://haystack.deepset.ai/overview/quick-start\"]},\n",
    "              \"prompt\": {\"query\": \"Responda em português, como posso construir meu primeiro pipeline RAG?\"}})\n",
    "\n",
    "print(result[\"llm\"][\"replies\"][0])\n"
   ]
  },
  {
   "cell_type": "markdown",
   "metadata": {},
   "source": [
    "#### Fluxograma"
   ]
  },
  {
   "cell_type": "markdown",
   "metadata": {},
   "source": [
    "<p align=\"center\">\n",
    "  <img src=\"../../data/docs-data/overview/faca-perguntas-a-uma-pagina-da-web.png\" alt=\"Faça perguntas a uma página da web\">\n",
    "</p>"
   ]
  },
  {
   "cell_type": "markdown",
   "metadata": {},
   "source": [
    "Os dois códigos demonstram diferentes maneiras de usar o framework Haystack para processar informações de páginas da web e gerar respostas baseadas nessas informações. Eles têm algumas diferenças fundamentais na abordagem e na complexidade."
   ]
  },
  {
   "cell_type": "markdown",
   "metadata": {},
   "source": [
    "#### Simplicidade (Código 1): Uso de PredefinedPipeline\n",
    "\n",
    "- **Simplicidade**: Este código utiliza a classe PredefinedPipeline para criar uma pipeline pré-definida com o mínimo de configuração necessária. Ele é mais direto e fácil de usar para casos de uso comuns.\n",
    "- **Configuração de Pipeline**: A pipeline é criada com o método from_template(), usando uma pipeline pré-definida (CHAT_WITH_WEBSITE). Isso significa que a estrutura da pipeline (fetching, conversão, geração) já está definida pela template, e o usuário não precisa configurar manualmente cada componente.\n",
    "- **Foco**: Este código é focado em extrair informações de URLs específicas para responder a uma pergunta, sem a necessidade de detalhar cada etapa do processo."
   ]
  },
  {
   "cell_type": "markdown",
   "metadata": {},
   "source": [
    "#### Flexibilidade (Código 2): Construção Manual da Pipeline\n",
    "\n",
    "- **Flexibilidade**: Este código demonstra uma abordagem mais granular e flexível, construindo a pipeline componente por componente. Isso permite uma personalização mais detalhada de cada etapa do processo.\n",
    "- **Componentes Personalizados**: Aqui, os componentes são explicitamente criados e adicionados à pipeline (LinkContentFetcher, HTMLToDocument, PromptBuilder, OpenAIGenerator). Isso dá ao usuário controle total sobre o comportamento de cada componente.\n",
    "- **Conexões Explícitas**: O código faz uso do método connect() para definir explicitamente como os dados fluem entre os componentes da pipeline. Isso oferece clareza sobre como as informações são processadas e transformadas ao longo da pipeline.\n",
    "- **Template de Prompt Customizado**: Utiliza um template personalizado para construir o prompt enviado ao modelo de linguagem, dando ao usuário a capacidade de influenciar diretamente a formatação do prompt e, consequentemente, a qualidade da resposta gerada."
   ]
  },
  {
   "cell_type": "markdown",
   "metadata": {},
   "source": [
    "#### Diferenças\n",
    "- **Simplicidade vs. Flexibilidade**: O primeiro código é mais simples e direto, ideal para quem quer uma solução rápida e padronizada. O segundo oferece mais flexibilidade e controle, adequado para usuários que precisam de configurações específicas ou querem otimizar o processo detalhadamente.\n",
    "- **Configuração da Pipeline**: No primeiro código, a pipeline é predefinida, enquanto no segundo, o usuário constrói e configura cada componente da pipeline manualmente.\n",
    "- **Personalização do Prompt**: O segundo código permite uma personalização detalhada do prompt enviado ao modelo de linguagem, o que pode ser crucial para casos de uso específicos onde a formatação do prompt afeta significativamente a resposta gerada.\n",
    "Cada abordagem tem seus benefícios e escolher entre elas depende das necessidades específicas do projeto e da preferência do desenvolvedor."
   ]
  },
  {
   "cell_type": "markdown",
   "metadata": {},
   "source": [
    "## 4. Crie seu primeiro aplicativo RAG\n",
    "\n",
    "É possível construir um pipeline de geração aumentada de recuperação (RAG) e ver como o Haystack responde às perguntas."
   ]
  },
  {
   "cell_type": "markdown",
   "metadata": {},
   "source": [
    "Primeiro, é necessário instalar a forma mínima do Haystack:"
   ]
  },
  {
   "cell_type": "code",
   "execution_count": null,
   "metadata": {},
   "outputs": [
    {
     "name": "stdout",
     "output_type": "stream",
     "text": [
      "Requirement already satisfied: haystack-ai in /home/tanabe/tech4humans/iag-labs-haystack/venv/lib/python3.10/site-packages (2.0.0)\n",
      "Requirement already satisfied: python-dateutil in /home/tanabe/tech4humans/iag-labs-haystack/venv/lib/python3.10/site-packages (from haystack-ai) (2.9.0.post0)\n",
      "Requirement already satisfied: boilerpy3 in /home/tanabe/tech4humans/iag-labs-haystack/venv/lib/python3.10/site-packages (from haystack-ai) (1.0.7)\n",
      "Requirement already satisfied: requests in /home/tanabe/tech4humans/iag-labs-haystack/venv/lib/python3.10/site-packages (from haystack-ai) (2.31.0)\n",
      "Requirement already satisfied: haystack-bm25 in /home/tanabe/tech4humans/iag-labs-haystack/venv/lib/python3.10/site-packages (from haystack-ai) (1.0.2)\n",
      "Requirement already satisfied: lazy-imports in /home/tanabe/tech4humans/iag-labs-haystack/venv/lib/python3.10/site-packages (from haystack-ai) (0.3.1)\n",
      "Requirement already satisfied: more-itertools in /home/tanabe/tech4humans/iag-labs-haystack/venv/lib/python3.10/site-packages (from haystack-ai) (10.2.0)\n",
      "Requirement already satisfied: tenacity in /home/tanabe/tech4humans/iag-labs-haystack/venv/lib/python3.10/site-packages (from haystack-ai) (8.2.3)\n",
      "Requirement already satisfied: typing-extensions>=4.7 in /home/tanabe/tech4humans/iag-labs-haystack/venv/lib/python3.10/site-packages (from haystack-ai) (4.10.0)\n",
      "Requirement already satisfied: posthog in /home/tanabe/tech4humans/iag-labs-haystack/venv/lib/python3.10/site-packages (from haystack-ai) (3.5.0)\n",
      "Requirement already satisfied: numpy in /home/tanabe/tech4humans/iag-labs-haystack/venv/lib/python3.10/site-packages (from haystack-ai) (1.26.4)\n",
      "Requirement already satisfied: tqdm in /home/tanabe/tech4humans/iag-labs-haystack/venv/lib/python3.10/site-packages (from haystack-ai) (4.66.2)\n",
      "Requirement already satisfied: networkx in /home/tanabe/tech4humans/iag-labs-haystack/venv/lib/python3.10/site-packages (from haystack-ai) (3.2.1)\n",
      "Requirement already satisfied: jinja2 in /home/tanabe/tech4humans/iag-labs-haystack/venv/lib/python3.10/site-packages (from haystack-ai) (3.1.3)\n",
      "Requirement already satisfied: pyyaml in /home/tanabe/tech4humans/iag-labs-haystack/venv/lib/python3.10/site-packages (from haystack-ai) (6.0.1)\n",
      "Requirement already satisfied: pandas in /home/tanabe/tech4humans/iag-labs-haystack/venv/lib/python3.10/site-packages (from haystack-ai) (2.2.1)\n",
      "Requirement already satisfied: openai>=1.1.0 in /home/tanabe/tech4humans/iag-labs-haystack/venv/lib/python3.10/site-packages (from haystack-ai) (1.13.3)\n",
      "Requirement already satisfied: distro<2,>=1.7.0 in /home/tanabe/tech4humans/iag-labs-haystack/venv/lib/python3.10/site-packages (from openai>=1.1.0->haystack-ai) (1.9.0)\n",
      "Requirement already satisfied: sniffio in /home/tanabe/tech4humans/iag-labs-haystack/venv/lib/python3.10/site-packages (from openai>=1.1.0->haystack-ai) (1.3.1)\n",
      "Requirement already satisfied: anyio<5,>=3.5.0 in /home/tanabe/tech4humans/iag-labs-haystack/venv/lib/python3.10/site-packages (from openai>=1.1.0->haystack-ai) (4.3.0)\n",
      "Requirement already satisfied: pydantic<3,>=1.9.0 in /home/tanabe/tech4humans/iag-labs-haystack/venv/lib/python3.10/site-packages (from openai>=1.1.0->haystack-ai) (2.6.4)\n",
      "Requirement already satisfied: httpx<1,>=0.23.0 in /home/tanabe/tech4humans/iag-labs-haystack/venv/lib/python3.10/site-packages (from openai>=1.1.0->haystack-ai) (0.27.0)\n",
      "Requirement already satisfied: MarkupSafe>=2.0 in /home/tanabe/tech4humans/iag-labs-haystack/venv/lib/python3.10/site-packages (from jinja2->haystack-ai) (2.1.5)\n",
      "Requirement already satisfied: tzdata>=2022.7 in /home/tanabe/tech4humans/iag-labs-haystack/venv/lib/python3.10/site-packages (from pandas->haystack-ai) (2024.1)\n",
      "Requirement already satisfied: pytz>=2020.1 in /home/tanabe/tech4humans/iag-labs-haystack/venv/lib/python3.10/site-packages (from pandas->haystack-ai) (2024.1)\n",
      "Requirement already satisfied: six>=1.5 in /home/tanabe/tech4humans/iag-labs-haystack/venv/lib/python3.10/site-packages (from python-dateutil->haystack-ai) (1.16.0)\n",
      "Requirement already satisfied: backoff>=1.10.0 in /home/tanabe/tech4humans/iag-labs-haystack/venv/lib/python3.10/site-packages (from posthog->haystack-ai) (2.2.1)\n",
      "Requirement already satisfied: monotonic>=1.5 in /home/tanabe/tech4humans/iag-labs-haystack/venv/lib/python3.10/site-packages (from posthog->haystack-ai) (1.6)\n",
      "Requirement already satisfied: idna<4,>=2.5 in /home/tanabe/tech4humans/iag-labs-haystack/venv/lib/python3.10/site-packages (from requests->haystack-ai) (3.6)\n",
      "Requirement already satisfied: charset-normalizer<4,>=2 in /home/tanabe/tech4humans/iag-labs-haystack/venv/lib/python3.10/site-packages (from requests->haystack-ai) (3.3.2)\n",
      "Requirement already satisfied: urllib3<3,>=1.21.1 in /home/tanabe/tech4humans/iag-labs-haystack/venv/lib/python3.10/site-packages (from requests->haystack-ai) (2.2.1)\n",
      "Requirement already satisfied: certifi>=2017.4.17 in /home/tanabe/tech4humans/iag-labs-haystack/venv/lib/python3.10/site-packages (from requests->haystack-ai) (2024.2.2)\n",
      "Requirement already satisfied: exceptiongroup>=1.0.2 in /home/tanabe/tech4humans/iag-labs-haystack/venv/lib/python3.10/site-packages (from anyio<5,>=3.5.0->openai>=1.1.0->haystack-ai) (1.2.0)\n",
      "Requirement already satisfied: httpcore==1.* in /home/tanabe/tech4humans/iag-labs-haystack/venv/lib/python3.10/site-packages (from httpx<1,>=0.23.0->openai>=1.1.0->haystack-ai) (1.0.4)\n",
      "Requirement already satisfied: h11<0.15,>=0.13 in /home/tanabe/tech4humans/iag-labs-haystack/venv/lib/python3.10/site-packages (from httpcore==1.*->httpx<1,>=0.23.0->openai>=1.1.0->haystack-ai) (0.14.0)\n",
      "Requirement already satisfied: annotated-types>=0.4.0 in /home/tanabe/tech4humans/iag-labs-haystack/venv/lib/python3.10/site-packages (from pydantic<3,>=1.9.0->openai>=1.1.0->haystack-ai) (0.6.0)\n",
      "Requirement already satisfied: pydantic-core==2.16.3 in /home/tanabe/tech4humans/iag-labs-haystack/venv/lib/python3.10/site-packages (from pydantic<3,>=1.9.0->openai>=1.1.0->haystack-ai) (2.16.3)\n",
      "Note: you may need to restart the kernel to use updated packages.\n"
     ]
    }
   ],
   "source": [
    "pip install haystack-ai"
   ]
  },
  {
   "cell_type": "markdown",
   "metadata": {},
   "source": [
    "O código a seguir carregará os dados no Document Store, criará um pipeline RAG e fará uma pergunta com base nos dados. É necessário uma chave API da OpenAI em OPENAI_API_KEYcomo variável de ambiente, para que o código funcione."
   ]
  },
  {
   "cell_type": "markdown",
   "metadata": {},
   "source": [
    "Como alternativa, você pode começar usando um dos [modelos de pipeline prontos](https://docs.haystack.deepset.ai/docs/pipeline-templates)."
   ]
  },
  {
   "cell_type": "code",
   "execution_count": null,
   "metadata": {},
   "outputs": [
    {
     "name": "stderr",
     "output_type": "stream",
     "text": [
      "Ranking by BM25...: 100%|██████████| 3/3 [00:00<00:00, 18641.35 docs/s]"
     ]
    },
    {
     "name": "stderr",
     "output_type": "stream",
     "text": [
      "\n"
     ]
    },
    {
     "name": "stdout",
     "output_type": "stream",
     "text": [
      "['Jean vive em Paris.']\n"
     ]
    }
   ],
   "source": [
    "# Importação dos componentes e do InMemoryDocumentStore.\n",
    "import os\n",
    "from dotenv import load_dotenv\n",
    "from haystack import Pipeline, Document\n",
    "from haystack.document_stores.in_memory import InMemoryDocumentStore\n",
    "from haystack.components.retrievers.in_memory import InMemoryBM25Retriever\n",
    "from haystack.components.generators import OpenAIGenerator\n",
    "from haystack.components.builders.answer_builder import AnswerBuilder\n",
    "from haystack.components.builders.prompt_builder import PromptBuilder\n",
    "\n",
    "# Definição das variáveis ​​de ambiente necessárias\n",
    "load_dotenv()\n",
    "api_key = os.environ['OPENAI_API_KEY']\n",
    "\n",
    "# Uso do DocumentStore\n",
    "# Inicialização do InMemoryDocumentStore simples \n",
    "# e, em seguida, escrita do texto em cada documento no Store.\n",
    "document_store = InMemoryDocumentStore()\n",
    "document_store.write_documents([\n",
    "    Document(content=\"My name is Jean and I live in Paris.\"), \n",
    "    Document(content=\"My name is Mark and I live in Berlin.\"), \n",
    "    Document(content=\"My name is Giorgio and I live in Rome.\")\n",
    "])\n",
    "\n",
    "# Escrita de um modelo de prompt\n",
    "# O prompt corresponde a uma tarefa de PLN e contém instruções para o modelo. \n",
    "# O pipeline percorrerá cada documento para descobrir a resposta.\n",
    "prompt_template = \"\"\"\n",
    "Given these documents, answer the question.\n",
    "Documents:\n",
    "{% for doc in documents %}\n",
    "    {{ doc.content }}\n",
    "{% endfor %}\n",
    "Question: {{question}}\n",
    "Answer:\n",
    "\"\"\"\n",
    "\n",
    "# Criação do dos componentes\n",
    "# Além disso, insira sua chave de API OpenAI para o OpenAIGenerator.\n",
    "# É possível passar quaisquer parâmetros para os componentes neste estágio.\n",
    "retriever = InMemoryBM25Retriever(document_store=document_store)\n",
    "prompt_builder = PromptBuilder(template=prompt_template)\n",
    "llm = OpenAIGenerator()\n",
    "\n",
    "# Criação de uma instância de pipeline\n",
    "rag_pipeline = Pipeline()\n",
    "# Adição dos componentes ao pipeline\n",
    "# Adição de cada componente, um por um, ao pipeline. A ordem não importa.\n",
    "# Nesta fase, o Pipeline valida os componentes sem executá-los ainda.\n",
    "rag_pipeline.add_component(\"retriever\", retriever)\n",
    "rag_pipeline.add_component(\"prompt_builder\", prompt_builder)\n",
    "rag_pipeline.add_component(\"llm\", llm)\n",
    "# Conexão dos componentes individuais\n",
    "# Organização dos componentes do pipeline na ordem necessária. Se um componente \n",
    "# tiver mais de uma entrada ou saída, é necessário indicar qual entrada é desejavel \n",
    "# conectar a qual saída usando o formato(\"component_name.output_name\", \"component_name, input_name\")\n",
    "rag_pipeline.connect(\"retriever\", \"prompt_builder.documents\")\n",
    "rag_pipeline.connect(\"prompt_builder\", \"llm\")\n",
    "\n",
    "# Pergunta e definição dos resultados\n",
    "question = \"Quem vive em Paris?\"\n",
    "results = rag_pipeline.run(\n",
    "    {\n",
    "        \"retriever\": {\"query\": question},\n",
    "        \"prompt_builder\": {\"question\": question},\n",
    "    }\n",
    ")\n",
    "\n",
    "# Exibição da resposta\n",
    "print(results[\"llm\"][\"replies\"])"
   ]
  },
  {
   "cell_type": "markdown",
   "metadata": {},
   "source": [
    "### Adicionando dados\n",
    "Em vez de executar o pipeline RAG em dados de exemplo, é possível adicionar dados customizados usando [Document Stores](https://docs.haystack.deepset.ai/docs/document-store)."
   ]
  },
  {
   "cell_type": "markdown",
   "metadata": {},
   "source": [
    "## 5. Construa seu primeiro pipeline RAG\n",
    "\n",
    "Para construir pipelines de pesquisa modernos com LLMs, você precisa de duas coisas: componentes poderosos e uma maneira fácil de reuni-los. O pipeline Haystack foi criado para essa finalidade e permite projetar e dimensionar suas interações com LLMs. Aprenda como criar pipelines aqui .\n",
    "\n",
    "Ao conectar três componentes, um Retriever, um PromptBuilder e um Generator , você pode construir seu primeiro pipeline de Retrieval Augmented Generation (RAG) com Haystack.\n",
    "\n",
    "Experimente como o Haystack responde a perguntas sobre os documentos fornecidos usando a abordagem RAG 👇"
   ]
  },
  {
   "cell_type": "markdown",
   "metadata": {},
   "source": [
    "Primeiro, instale o Haystack e a integração do Chroma (vamos usá-lo como nosso armazenamento de documentos):"
   ]
  },
  {
   "cell_type": "code",
   "execution_count": 7,
   "metadata": {},
   "outputs": [
    {
     "name": "stdout",
     "output_type": "stream",
     "text": [
      "Requirement already satisfied: haystack-ai in /home/tanabe/tech4humans/iag-labs-haystack/venv/lib/python3.10/site-packages (2.0.0)\n",
      "Requirement already satisfied: chroma-haystack in /home/tanabe/tech4humans/iag-labs-haystack/venv/lib/python3.10/site-packages (0.15.0)\n",
      "Requirement already satisfied: posthog in /home/tanabe/tech4humans/iag-labs-haystack/venv/lib/python3.10/site-packages (from haystack-ai) (3.5.0)\n",
      "Requirement already satisfied: lazy-imports in /home/tanabe/tech4humans/iag-labs-haystack/venv/lib/python3.10/site-packages (from haystack-ai) (0.3.1)\n",
      "Requirement already satisfied: jinja2 in /home/tanabe/tech4humans/iag-labs-haystack/venv/lib/python3.10/site-packages (from haystack-ai) (3.1.3)\n",
      "Requirement already satisfied: haystack-bm25 in /home/tanabe/tech4humans/iag-labs-haystack/venv/lib/python3.10/site-packages (from haystack-ai) (1.0.2)\n",
      "Requirement already satisfied: openai>=1.1.0 in /home/tanabe/tech4humans/iag-labs-haystack/venv/lib/python3.10/site-packages (from haystack-ai) (1.13.3)\n",
      "Requirement already satisfied: python-dateutil in /home/tanabe/tech4humans/iag-labs-haystack/venv/lib/python3.10/site-packages (from haystack-ai) (2.9.0.post0)\n",
      "Requirement already satisfied: typing-extensions>=4.7 in /home/tanabe/tech4humans/iag-labs-haystack/venv/lib/python3.10/site-packages (from haystack-ai) (4.10.0)\n",
      "Requirement already satisfied: numpy in /home/tanabe/tech4humans/iag-labs-haystack/venv/lib/python3.10/site-packages (from haystack-ai) (1.26.4)\n",
      "Requirement already satisfied: boilerpy3 in /home/tanabe/tech4humans/iag-labs-haystack/venv/lib/python3.10/site-packages (from haystack-ai) (1.0.7)\n",
      "Requirement already satisfied: requests in /home/tanabe/tech4humans/iag-labs-haystack/venv/lib/python3.10/site-packages (from haystack-ai) (2.31.0)\n",
      "Requirement already satisfied: pyyaml in /home/tanabe/tech4humans/iag-labs-haystack/venv/lib/python3.10/site-packages (from haystack-ai) (6.0.1)\n",
      "Requirement already satisfied: tqdm in /home/tanabe/tech4humans/iag-labs-haystack/venv/lib/python3.10/site-packages (from haystack-ai) (4.66.2)\n",
      "Requirement already satisfied: pandas in /home/tanabe/tech4humans/iag-labs-haystack/venv/lib/python3.10/site-packages (from haystack-ai) (2.2.1)\n",
      "Requirement already satisfied: more-itertools in /home/tanabe/tech4humans/iag-labs-haystack/venv/lib/python3.10/site-packages (from haystack-ai) (10.2.0)\n",
      "Requirement already satisfied: tenacity in /home/tanabe/tech4humans/iag-labs-haystack/venv/lib/python3.10/site-packages (from haystack-ai) (8.2.3)\n",
      "Requirement already satisfied: networkx in /home/tanabe/tech4humans/iag-labs-haystack/venv/lib/python3.10/site-packages (from haystack-ai) (3.2.1)\n",
      "Requirement already satisfied: chromadb<0.4.20 in /home/tanabe/tech4humans/iag-labs-haystack/venv/lib/python3.10/site-packages (from chroma-haystack) (0.4.19)\n",
      "Requirement already satisfied: typer>=0.9.0 in /home/tanabe/tech4humans/iag-labs-haystack/venv/lib/python3.10/site-packages (from chromadb<0.4.20->chroma-haystack) (0.9.0)\n",
      "Requirement already satisfied: onnxruntime>=1.14.1 in /home/tanabe/tech4humans/iag-labs-haystack/venv/lib/python3.10/site-packages (from chromadb<0.4.20->chroma-haystack) (1.17.1)\n",
      "Requirement already satisfied: opentelemetry-exporter-otlp-proto-grpc>=1.2.0 in /home/tanabe/tech4humans/iag-labs-haystack/venv/lib/python3.10/site-packages (from chromadb<0.4.20->chroma-haystack) (1.23.0)\n",
      "Requirement already satisfied: uvicorn[standard]>=0.18.3 in /home/tanabe/tech4humans/iag-labs-haystack/venv/lib/python3.10/site-packages (from chromadb<0.4.20->chroma-haystack) (0.28.0)\n",
      "Requirement already satisfied: tokenizers>=0.13.2 in /home/tanabe/tech4humans/iag-labs-haystack/venv/lib/python3.10/site-packages (from chromadb<0.4.20->chroma-haystack) (0.15.2)\n",
      "Requirement already satisfied: importlib-resources in /home/tanabe/tech4humans/iag-labs-haystack/venv/lib/python3.10/site-packages (from chromadb<0.4.20->chroma-haystack) (6.3.0)\n",
      "Requirement already satisfied: opentelemetry-instrumentation-fastapi>=0.41b0 in /home/tanabe/tech4humans/iag-labs-haystack/venv/lib/python3.10/site-packages (from chromadb<0.4.20->chroma-haystack) (0.44b0)\n",
      "Requirement already satisfied: fastapi>=0.95.2 in /home/tanabe/tech4humans/iag-labs-haystack/venv/lib/python3.10/site-packages (from chromadb<0.4.20->chroma-haystack) (0.110.0)\n",
      "Requirement already satisfied: pydantic>=1.9 in /home/tanabe/tech4humans/iag-labs-haystack/venv/lib/python3.10/site-packages (from chromadb<0.4.20->chroma-haystack) (2.6.4)\n",
      "Requirement already satisfied: opentelemetry-sdk>=1.2.0 in /home/tanabe/tech4humans/iag-labs-haystack/venv/lib/python3.10/site-packages (from chromadb<0.4.20->chroma-haystack) (1.23.0)\n",
      "Requirement already satisfied: pypika>=0.48.9 in /home/tanabe/tech4humans/iag-labs-haystack/venv/lib/python3.10/site-packages (from chromadb<0.4.20->chroma-haystack) (0.48.9)\n",
      "Requirement already satisfied: mmh3>=4.0.1 in /home/tanabe/tech4humans/iag-labs-haystack/venv/lib/python3.10/site-packages (from chromadb<0.4.20->chroma-haystack) (4.1.0)\n",
      "Requirement already satisfied: opentelemetry-api>=1.2.0 in /home/tanabe/tech4humans/iag-labs-haystack/venv/lib/python3.10/site-packages (from chromadb<0.4.20->chroma-haystack) (1.23.0)\n",
      "Requirement already satisfied: overrides>=7.3.1 in /home/tanabe/tech4humans/iag-labs-haystack/venv/lib/python3.10/site-packages (from chromadb<0.4.20->chroma-haystack) (7.7.0)\n",
      "Requirement already satisfied: chroma-hnswlib==0.7.3 in /home/tanabe/tech4humans/iag-labs-haystack/venv/lib/python3.10/site-packages (from chromadb<0.4.20->chroma-haystack) (0.7.3)\n",
      "Requirement already satisfied: grpcio>=1.58.0 in /home/tanabe/tech4humans/iag-labs-haystack/venv/lib/python3.10/site-packages (from chromadb<0.4.20->chroma-haystack) (1.62.1)\n",
      "Requirement already satisfied: kubernetes>=28.1.0 in /home/tanabe/tech4humans/iag-labs-haystack/venv/lib/python3.10/site-packages (from chromadb<0.4.20->chroma-haystack) (29.0.0)\n",
      "Requirement already satisfied: bcrypt>=4.0.1 in /home/tanabe/tech4humans/iag-labs-haystack/venv/lib/python3.10/site-packages (from chromadb<0.4.20->chroma-haystack) (4.1.2)\n",
      "Requirement already satisfied: pulsar-client>=3.1.0 in /home/tanabe/tech4humans/iag-labs-haystack/venv/lib/python3.10/site-packages (from chromadb<0.4.20->chroma-haystack) (3.4.0)\n",
      "Requirement already satisfied: sniffio in /home/tanabe/tech4humans/iag-labs-haystack/venv/lib/python3.10/site-packages (from openai>=1.1.0->haystack-ai) (1.3.1)\n",
      "Requirement already satisfied: distro<2,>=1.7.0 in /home/tanabe/tech4humans/iag-labs-haystack/venv/lib/python3.10/site-packages (from openai>=1.1.0->haystack-ai) (1.9.0)\n",
      "Requirement already satisfied: httpx<1,>=0.23.0 in /home/tanabe/tech4humans/iag-labs-haystack/venv/lib/python3.10/site-packages (from openai>=1.1.0->haystack-ai) (0.27.0)\n",
      "Requirement already satisfied: anyio<5,>=3.5.0 in /home/tanabe/tech4humans/iag-labs-haystack/venv/lib/python3.10/site-packages (from openai>=1.1.0->haystack-ai) (4.3.0)\n",
      "Requirement already satisfied: monotonic>=1.5 in /home/tanabe/tech4humans/iag-labs-haystack/venv/lib/python3.10/site-packages (from posthog->haystack-ai) (1.6)\n",
      "Requirement already satisfied: backoff>=1.10.0 in /home/tanabe/tech4humans/iag-labs-haystack/venv/lib/python3.10/site-packages (from posthog->haystack-ai) (2.2.1)\n",
      "Requirement already satisfied: six>=1.5 in /home/tanabe/tech4humans/iag-labs-haystack/venv/lib/python3.10/site-packages (from posthog->haystack-ai) (1.16.0)\n",
      "Requirement already satisfied: certifi>=2017.4.17 in /home/tanabe/tech4humans/iag-labs-haystack/venv/lib/python3.10/site-packages (from requests->haystack-ai) (2024.2.2)\n",
      "Requirement already satisfied: charset-normalizer<4,>=2 in /home/tanabe/tech4humans/iag-labs-haystack/venv/lib/python3.10/site-packages (from requests->haystack-ai) (3.3.2)\n",
      "Requirement already satisfied: idna<4,>=2.5 in /home/tanabe/tech4humans/iag-labs-haystack/venv/lib/python3.10/site-packages (from requests->haystack-ai) (3.6)\n",
      "Requirement already satisfied: urllib3<3,>=1.21.1 in /home/tanabe/tech4humans/iag-labs-haystack/venv/lib/python3.10/site-packages (from requests->haystack-ai) (2.2.1)\n",
      "Requirement already satisfied: MarkupSafe>=2.0 in /home/tanabe/tech4humans/iag-labs-haystack/venv/lib/python3.10/site-packages (from jinja2->haystack-ai) (2.1.5)\n",
      "Requirement already satisfied: pytz>=2020.1 in /home/tanabe/tech4humans/iag-labs-haystack/venv/lib/python3.10/site-packages (from pandas->haystack-ai) (2024.1)\n",
      "Requirement already satisfied: tzdata>=2022.7 in /home/tanabe/tech4humans/iag-labs-haystack/venv/lib/python3.10/site-packages (from pandas->haystack-ai) (2024.1)\n",
      "Requirement already satisfied: exceptiongroup>=1.0.2 in /home/tanabe/tech4humans/iag-labs-haystack/venv/lib/python3.10/site-packages (from anyio<5,>=3.5.0->openai>=1.1.0->haystack-ai) (1.2.0)\n",
      "Requirement already satisfied: starlette<0.37.0,>=0.36.3 in /home/tanabe/tech4humans/iag-labs-haystack/venv/lib/python3.10/site-packages (from fastapi>=0.95.2->chromadb<0.4.20->chroma-haystack) (0.36.3)\n",
      "Requirement already satisfied: httpcore==1.* in /home/tanabe/tech4humans/iag-labs-haystack/venv/lib/python3.10/site-packages (from httpx<1,>=0.23.0->openai>=1.1.0->haystack-ai) (1.0.4)\n",
      "Requirement already satisfied: h11<0.15,>=0.13 in /home/tanabe/tech4humans/iag-labs-haystack/venv/lib/python3.10/site-packages (from httpcore==1.*->httpx<1,>=0.23.0->openai>=1.1.0->haystack-ai) (0.14.0)\n",
      "Requirement already satisfied: oauthlib>=3.2.2 in /home/tanabe/tech4humans/iag-labs-haystack/venv/lib/python3.10/site-packages (from kubernetes>=28.1.0->chromadb<0.4.20->chroma-haystack) (3.2.2)\n",
      "Requirement already satisfied: requests-oauthlib in /home/tanabe/tech4humans/iag-labs-haystack/venv/lib/python3.10/site-packages (from kubernetes>=28.1.0->chromadb<0.4.20->chroma-haystack) (1.4.0)\n",
      "Requirement already satisfied: google-auth>=1.0.1 in /home/tanabe/tech4humans/iag-labs-haystack/venv/lib/python3.10/site-packages (from kubernetes>=28.1.0->chromadb<0.4.20->chroma-haystack) (2.28.2)\n",
      "Requirement already satisfied: websocket-client!=0.40.0,!=0.41.*,!=0.42.*,>=0.32.0 in /home/tanabe/tech4humans/iag-labs-haystack/venv/lib/python3.10/site-packages (from kubernetes>=28.1.0->chromadb<0.4.20->chroma-haystack) (1.7.0)\n",
      "Requirement already satisfied: packaging in /home/tanabe/tech4humans/iag-labs-haystack/venv/lib/python3.10/site-packages (from onnxruntime>=1.14.1->chromadb<0.4.20->chroma-haystack) (24.0)\n",
      "Requirement already satisfied: protobuf in /home/tanabe/tech4humans/iag-labs-haystack/venv/lib/python3.10/site-packages (from onnxruntime>=1.14.1->chromadb<0.4.20->chroma-haystack) (4.25.3)\n",
      "Requirement already satisfied: flatbuffers in /home/tanabe/tech4humans/iag-labs-haystack/venv/lib/python3.10/site-packages (from onnxruntime>=1.14.1->chromadb<0.4.20->chroma-haystack) (24.3.7)\n",
      "Requirement already satisfied: sympy in /home/tanabe/tech4humans/iag-labs-haystack/venv/lib/python3.10/site-packages (from onnxruntime>=1.14.1->chromadb<0.4.20->chroma-haystack) (1.12)\n",
      "Requirement already satisfied: coloredlogs in /home/tanabe/tech4humans/iag-labs-haystack/venv/lib/python3.10/site-packages (from onnxruntime>=1.14.1->chromadb<0.4.20->chroma-haystack) (15.0.1)\n",
      "Requirement already satisfied: importlib-metadata<7.0,>=6.0 in /home/tanabe/tech4humans/iag-labs-haystack/venv/lib/python3.10/site-packages (from opentelemetry-api>=1.2.0->chromadb<0.4.20->chroma-haystack) (6.11.0)\n",
      "Requirement already satisfied: deprecated>=1.2.6 in /home/tanabe/tech4humans/iag-labs-haystack/venv/lib/python3.10/site-packages (from opentelemetry-api>=1.2.0->chromadb<0.4.20->chroma-haystack) (1.2.14)\n",
      "Requirement already satisfied: googleapis-common-protos~=1.52 in /home/tanabe/tech4humans/iag-labs-haystack/venv/lib/python3.10/site-packages (from opentelemetry-exporter-otlp-proto-grpc>=1.2.0->chromadb<0.4.20->chroma-haystack) (1.63.0)\n",
      "Requirement already satisfied: opentelemetry-proto==1.23.0 in /home/tanabe/tech4humans/iag-labs-haystack/venv/lib/python3.10/site-packages (from opentelemetry-exporter-otlp-proto-grpc>=1.2.0->chromadb<0.4.20->chroma-haystack) (1.23.0)\n",
      "Requirement already satisfied: opentelemetry-exporter-otlp-proto-common==1.23.0 in /home/tanabe/tech4humans/iag-labs-haystack/venv/lib/python3.10/site-packages (from opentelemetry-exporter-otlp-proto-grpc>=1.2.0->chromadb<0.4.20->chroma-haystack) (1.23.0)\n",
      "Requirement already satisfied: opentelemetry-semantic-conventions==0.44b0 in /home/tanabe/tech4humans/iag-labs-haystack/venv/lib/python3.10/site-packages (from opentelemetry-instrumentation-fastapi>=0.41b0->chromadb<0.4.20->chroma-haystack) (0.44b0)\n",
      "Requirement already satisfied: opentelemetry-instrumentation==0.44b0 in /home/tanabe/tech4humans/iag-labs-haystack/venv/lib/python3.10/site-packages (from opentelemetry-instrumentation-fastapi>=0.41b0->chromadb<0.4.20->chroma-haystack) (0.44b0)\n",
      "Requirement already satisfied: opentelemetry-util-http==0.44b0 in /home/tanabe/tech4humans/iag-labs-haystack/venv/lib/python3.10/site-packages (from opentelemetry-instrumentation-fastapi>=0.41b0->chromadb<0.4.20->chroma-haystack) (0.44b0)\n",
      "Requirement already satisfied: opentelemetry-instrumentation-asgi==0.44b0 in /home/tanabe/tech4humans/iag-labs-haystack/venv/lib/python3.10/site-packages (from opentelemetry-instrumentation-fastapi>=0.41b0->chromadb<0.4.20->chroma-haystack) (0.44b0)\n",
      "Requirement already satisfied: setuptools>=16.0 in /home/tanabe/tech4humans/iag-labs-haystack/venv/lib/python3.10/site-packages (from opentelemetry-instrumentation==0.44b0->opentelemetry-instrumentation-fastapi>=0.41b0->chromadb<0.4.20->chroma-haystack) (59.6.0)\n",
      "Requirement already satisfied: wrapt<2.0.0,>=1.0.0 in /home/tanabe/tech4humans/iag-labs-haystack/venv/lib/python3.10/site-packages (from opentelemetry-instrumentation==0.44b0->opentelemetry-instrumentation-fastapi>=0.41b0->chromadb<0.4.20->chroma-haystack) (1.16.0)\n",
      "Requirement already satisfied: asgiref~=3.0 in /home/tanabe/tech4humans/iag-labs-haystack/venv/lib/python3.10/site-packages (from opentelemetry-instrumentation-asgi==0.44b0->opentelemetry-instrumentation-fastapi>=0.41b0->chromadb<0.4.20->chroma-haystack) (3.7.2)\n",
      "Requirement already satisfied: annotated-types>=0.4.0 in /home/tanabe/tech4humans/iag-labs-haystack/venv/lib/python3.10/site-packages (from pydantic>=1.9->chromadb<0.4.20->chroma-haystack) (0.6.0)\n",
      "Requirement already satisfied: pydantic-core==2.16.3 in /home/tanabe/tech4humans/iag-labs-haystack/venv/lib/python3.10/site-packages (from pydantic>=1.9->chromadb<0.4.20->chroma-haystack) (2.16.3)\n",
      "Requirement already satisfied: huggingface_hub<1.0,>=0.16.4 in /home/tanabe/tech4humans/iag-labs-haystack/venv/lib/python3.10/site-packages (from tokenizers>=0.13.2->chromadb<0.4.20->chroma-haystack) (0.21.4)\n",
      "Requirement already satisfied: click<9.0.0,>=7.1.1 in /home/tanabe/tech4humans/iag-labs-haystack/venv/lib/python3.10/site-packages (from typer>=0.9.0->chromadb<0.4.20->chroma-haystack) (8.1.7)\n",
      "Requirement already satisfied: watchfiles>=0.13 in /home/tanabe/tech4humans/iag-labs-haystack/venv/lib/python3.10/site-packages (from uvicorn[standard]>=0.18.3->chromadb<0.4.20->chroma-haystack) (0.21.0)\n",
      "Requirement already satisfied: uvloop!=0.15.0,!=0.15.1,>=0.14.0 in /home/tanabe/tech4humans/iag-labs-haystack/venv/lib/python3.10/site-packages (from uvicorn[standard]>=0.18.3->chromadb<0.4.20->chroma-haystack) (0.19.0)\n",
      "Requirement already satisfied: websockets>=10.4 in /home/tanabe/tech4humans/iag-labs-haystack/venv/lib/python3.10/site-packages (from uvicorn[standard]>=0.18.3->chromadb<0.4.20->chroma-haystack) (12.0)\n",
      "Requirement already satisfied: python-dotenv>=0.13 in /home/tanabe/tech4humans/iag-labs-haystack/venv/lib/python3.10/site-packages (from uvicorn[standard]>=0.18.3->chromadb<0.4.20->chroma-haystack) (1.0.1)\n",
      "Requirement already satisfied: httptools>=0.5.0 in /home/tanabe/tech4humans/iag-labs-haystack/venv/lib/python3.10/site-packages (from uvicorn[standard]>=0.18.3->chromadb<0.4.20->chroma-haystack) (0.6.1)\n",
      "Requirement already satisfied: pyasn1-modules>=0.2.1 in /home/tanabe/tech4humans/iag-labs-haystack/venv/lib/python3.10/site-packages (from google-auth>=1.0.1->kubernetes>=28.1.0->chromadb<0.4.20->chroma-haystack) (0.3.0)\n",
      "Requirement already satisfied: cachetools<6.0,>=2.0.0 in /home/tanabe/tech4humans/iag-labs-haystack/venv/lib/python3.10/site-packages (from google-auth>=1.0.1->kubernetes>=28.1.0->chromadb<0.4.20->chroma-haystack) (5.3.3)\n",
      "Requirement already satisfied: rsa<5,>=3.1.4 in /home/tanabe/tech4humans/iag-labs-haystack/venv/lib/python3.10/site-packages (from google-auth>=1.0.1->kubernetes>=28.1.0->chromadb<0.4.20->chroma-haystack) (4.9)\n",
      "Requirement already satisfied: fsspec>=2023.5.0 in /home/tanabe/tech4humans/iag-labs-haystack/venv/lib/python3.10/site-packages (from huggingface_hub<1.0,>=0.16.4->tokenizers>=0.13.2->chromadb<0.4.20->chroma-haystack) (2024.2.0)\n",
      "Requirement already satisfied: filelock in /home/tanabe/tech4humans/iag-labs-haystack/venv/lib/python3.10/site-packages (from huggingface_hub<1.0,>=0.16.4->tokenizers>=0.13.2->chromadb<0.4.20->chroma-haystack) (3.13.1)\n",
      "Requirement already satisfied: zipp>=0.5 in /home/tanabe/tech4humans/iag-labs-haystack/venv/lib/python3.10/site-packages (from importlib-metadata<7.0,>=6.0->opentelemetry-api>=1.2.0->chromadb<0.4.20->chroma-haystack) (3.18.0)\n",
      "Requirement already satisfied: humanfriendly>=9.1 in /home/tanabe/tech4humans/iag-labs-haystack/venv/lib/python3.10/site-packages (from coloredlogs->onnxruntime>=1.14.1->chromadb<0.4.20->chroma-haystack) (10.0)\n",
      "Requirement already satisfied: mpmath>=0.19 in /home/tanabe/tech4humans/iag-labs-haystack/venv/lib/python3.10/site-packages (from sympy->onnxruntime>=1.14.1->chromadb<0.4.20->chroma-haystack) (1.3.0)\n",
      "Requirement already satisfied: pyasn1<0.6.0,>=0.4.6 in /home/tanabe/tech4humans/iag-labs-haystack/venv/lib/python3.10/site-packages (from pyasn1-modules>=0.2.1->google-auth>=1.0.1->kubernetes>=28.1.0->chromadb<0.4.20->chroma-haystack) (0.5.1)\n",
      "Note: you may need to restart the kernel to use updated packages.\n"
     ]
    }
   ],
   "source": [
    "pip install haystack-ai chroma-haystack"
   ]
  },
  {
   "cell_type": "code",
   "execution_count": 9,
   "metadata": {},
   "outputs": [
    {
     "name": "stderr",
     "output_type": "stream",
     "text": [
      "Calculating embeddings: 100%|██████████| 2/2 [00:01<00:00,  1.19it/s]\n",
      "Add of existing embedding ID: d33987463a24c325ea594307e4da30102305c09b5a529056b7c1c2db5677d833\n",
      "Insert of existing embedding ID: d33987463a24c325ea594307e4da30102305c09b5a529056b7c1c2db5677d833\n",
      "Add of existing embedding ID: e471effeb69e7c686510df375987a20824475332fbeeef16842549414ff173e0\n",
      "Insert of existing embedding ID: e471effeb69e7c686510df375987a20824475332fbeeef16842549414ff173e0\n",
      "Add of existing embedding ID: 2fe49708b8bdade00e8ef589035917254c5d18914cfedeee1ac053e7f9372d75\n",
      "Insert of existing embedding ID: 2fe49708b8bdade00e8ef589035917254c5d18914cfedeee1ac053e7f9372d75\n",
      "Add of existing embedding ID: 59f1aaf910fd118d6f9157454b75a356b44489bf2993d2ecbf6e5813da31996f\n",
      "Insert of existing embedding ID: 59f1aaf910fd118d6f9157454b75a356b44489bf2993d2ecbf6e5813da31996f\n",
      "Add of existing embedding ID: 2a175620e921b84aeaec6a6fb9faa18d2526c46bb1faac083cc273519b717d59\n",
      "Insert of existing embedding ID: 2a175620e921b84aeaec6a6fb9faa18d2526c46bb1faac083cc273519b717d59\n",
      "Add of existing embedding ID: c45ec5b54597146bb7da1a265662b84e94671b39fb74a303f5cfd1ffd1587010\n",
      "Insert of existing embedding ID: c45ec5b54597146bb7da1a265662b84e94671b39fb74a303f5cfd1ffd1587010\n",
      "Add of existing embedding ID: 4d276795ceabd2000a69215995c41603df35a72664b5020ab21d677130840480\n",
      "Insert of existing embedding ID: 4d276795ceabd2000a69215995c41603df35a72664b5020ab21d677130840480\n",
      "Add of existing embedding ID: 2d4973ac6a14e64cfda17389a9cf6072e213167aec01b7db3018718b591c64ca\n",
      "Insert of existing embedding ID: 2d4973ac6a14e64cfda17389a9cf6072e213167aec01b7db3018718b591c64ca\n",
      "Add of existing embedding ID: 4a36050881df54aa6c1be9e396ffa9d696c3cb77bdc99b0db897fbc14875e161\n",
      "Insert of existing embedding ID: 4a36050881df54aa6c1be9e396ffa9d696c3cb77bdc99b0db897fbc14875e161\n",
      "Add of existing embedding ID: dc0a263e258966d331b1bf4ff573f093a21414d230939b13b80fb5e3d6287d84\n",
      "Insert of existing embedding ID: dc0a263e258966d331b1bf4ff573f093a21414d230939b13b80fb5e3d6287d84\n",
      "Add of existing embedding ID: 1669833faaeeb3c8eed21d2674dbc4a7cad100dcd31f69e9d467050e3b63dc81\n",
      "Insert of existing embedding ID: 1669833faaeeb3c8eed21d2674dbc4a7cad100dcd31f69e9d467050e3b63dc81\n",
      "Add of existing embedding ID: 7a89f67c528e8fe38371a8187a2ae378eb873d17777060769a7ede21eb2c6b51\n",
      "Insert of existing embedding ID: 7a89f67c528e8fe38371a8187a2ae378eb873d17777060769a7ede21eb2c6b51\n",
      "Add of existing embedding ID: d9cf2ad6b31abb37440639cb7f572916992ddd92e62f6ba2380bf83c39d5b366\n",
      "Insert of existing embedding ID: d9cf2ad6b31abb37440639cb7f572916992ddd92e62f6ba2380bf83c39d5b366\n",
      "Add of existing embedding ID: 171ffb94d02be2d2ea153579b8b6cf1078a0e5df40a28b3679a0567a3170e730\n",
      "Insert of existing embedding ID: 171ffb94d02be2d2ea153579b8b6cf1078a0e5df40a28b3679a0567a3170e730\n",
      "Add of existing embedding ID: af0af0ac6ea0af3da8dd0f56654b513d37c629ea2ac11174636cb09d186873d6\n",
      "Insert of existing embedding ID: af0af0ac6ea0af3da8dd0f56654b513d37c629ea2ac11174636cb09d186873d6\n",
      "Add of existing embedding ID: c7733e85d49363138894a524f706e9de63d59724e5be6c8cb45f6d1b174c12e0\n",
      "Insert of existing embedding ID: c7733e85d49363138894a524f706e9de63d59724e5be6c8cb45f6d1b174c12e0\n",
      "Add of existing embedding ID: 975134af801d96cd592a455e6d2bfb93a1347cc1aa67bfb358fba301c8ab131b\n",
      "Insert of existing embedding ID: 975134af801d96cd592a455e6d2bfb93a1347cc1aa67bfb358fba301c8ab131b\n",
      "Add of existing embedding ID: dba7ecd85286f9038c87bb294a5ea018d1c11805c8b9d497819ac7a73bd4f34d\n",
      "Insert of existing embedding ID: dba7ecd85286f9038c87bb294a5ea018d1c11805c8b9d497819ac7a73bd4f34d\n",
      "Add of existing embedding ID: 23ffb956fd1ae50350e42cd44f36300abb1c8cf3c9a8560c213f0ea7deb3e20c\n",
      "Insert of existing embedding ID: 23ffb956fd1ae50350e42cd44f36300abb1c8cf3c9a8560c213f0ea7deb3e20c\n",
      "Add of existing embedding ID: e11d980bc54d0073b45f30e5bcead19b612a975a531cadcc3694c0fd2d28a860\n",
      "Insert of existing embedding ID: e11d980bc54d0073b45f30e5bcead19b612a975a531cadcc3694c0fd2d28a860\n",
      "Add of existing embedding ID: bf154bbb012fe0419b7a19d4d261da46df1732014e970a2fa07ab1b5a241d7ef\n",
      "Insert of existing embedding ID: bf154bbb012fe0419b7a19d4d261da46df1732014e970a2fa07ab1b5a241d7ef\n",
      "Add of existing embedding ID: 3d9cbf82fd3e3b0a0610bcaa0277e8628f288d8995590653c0063983d631633a\n",
      "Insert of existing embedding ID: 3d9cbf82fd3e3b0a0610bcaa0277e8628f288d8995590653c0063983d631633a\n",
      "Add of existing embedding ID: 31ee0d17eb68f10151166c22f41cb0a82f435186a4c9305c197ceba21ff2cb60\n",
      "Insert of existing embedding ID: 31ee0d17eb68f10151166c22f41cb0a82f435186a4c9305c197ceba21ff2cb60\n",
      "Add of existing embedding ID: 8b42b8d7d17f56308da9216648f6e2f543b679edd0b02fca2efe3db0195bfd68\n",
      "Insert of existing embedding ID: 8b42b8d7d17f56308da9216648f6e2f543b679edd0b02fca2efe3db0195bfd68\n",
      "Add of existing embedding ID: 0333d17fb8bd17f522ded10cb18f93ceda2b3dcf13912d1ceefef7401345c741\n",
      "Insert of existing embedding ID: 0333d17fb8bd17f522ded10cb18f93ceda2b3dcf13912d1ceefef7401345c741\n",
      "Add of existing embedding ID: 5a52c1417a257c8bac3a4847806a8640a5941f956ebdf7699fb1c7bdf8510fe5\n",
      "Insert of existing embedding ID: 5a52c1417a257c8bac3a4847806a8640a5941f956ebdf7699fb1c7bdf8510fe5\n",
      "Add of existing embedding ID: 595143c9eca684920447623f6ad1ff9e118f2b62ed2a2600555a85f63ce8bf89\n",
      "Insert of existing embedding ID: 595143c9eca684920447623f6ad1ff9e118f2b62ed2a2600555a85f63ce8bf89\n",
      "Add of existing embedding ID: 1140d10a025bf765ccc2a8c3714d2b5097d3d7250566602fe9c5d29956b829d9\n",
      "Insert of existing embedding ID: 1140d10a025bf765ccc2a8c3714d2b5097d3d7250566602fe9c5d29956b829d9\n",
      "Add of existing embedding ID: cbf936c6454e5c634c09ceb0771ace3c0ab4ba77bd0d8469cc6cb4a16f4b8454\n",
      "Insert of existing embedding ID: cbf936c6454e5c634c09ceb0771ace3c0ab4ba77bd0d8469cc6cb4a16f4b8454\n",
      "Add of existing embedding ID: 3ccf900d132e2e472f4f6245dfd9bec02d4058c9bfe724b5719d967661b6cb9a\n",
      "Insert of existing embedding ID: 3ccf900d132e2e472f4f6245dfd9bec02d4058c9bfe724b5719d967661b6cb9a\n",
      "Add of existing embedding ID: fc11425323384fee57d7642ae908515788817db0dcd5342ca64d52d108c4e6df\n",
      "Insert of existing embedding ID: fc11425323384fee57d7642ae908515788817db0dcd5342ca64d52d108c4e6df\n",
      "Add of existing embedding ID: 5037adc8b8233659cd54360109316a95ede6473190a5c734712e21ce02c53ea3\n",
      "Insert of existing embedding ID: 5037adc8b8233659cd54360109316a95ede6473190a5c734712e21ce02c53ea3\n",
      "Add of existing embedding ID: 32358d97dbfa3784c9aab243b8c85452616bb604ff18c5275fe4c4730b61717b\n",
      "Insert of existing embedding ID: 32358d97dbfa3784c9aab243b8c85452616bb604ff18c5275fe4c4730b61717b\n",
      "Add of existing embedding ID: 78853765c29367a17017bda23f0a96bc419239b36eabcbb7396940d57e3641c7\n",
      "Insert of existing embedding ID: 78853765c29367a17017bda23f0a96bc419239b36eabcbb7396940d57e3641c7\n",
      "Add of existing embedding ID: 24dbb1c08a9190059caca4ea682157efe13a27ce33d1ae0ebfa27eab5277c794\n",
      "Insert of existing embedding ID: 24dbb1c08a9190059caca4ea682157efe13a27ce33d1ae0ebfa27eab5277c794\n",
      "Add of existing embedding ID: 76e1730c231626cb18a3a76ca101ca2f655d467537db9ca93a1d7733810aaebf\n",
      "Insert of existing embedding ID: 76e1730c231626cb18a3a76ca101ca2f655d467537db9ca93a1d7733810aaebf\n",
      "Add of existing embedding ID: ec43c9544775830707c98f96f03ce036dedafa643cde70e5edeeb03648f6ec4d\n",
      "Insert of existing embedding ID: ec43c9544775830707c98f96f03ce036dedafa643cde70e5edeeb03648f6ec4d\n",
      "Add of existing embedding ID: 8a18961e9ee13accec6bae306ce0a7a18e592c59ea99fd665ff1da00652431a7\n",
      "Insert of existing embedding ID: 8a18961e9ee13accec6bae306ce0a7a18e592c59ea99fd665ff1da00652431a7\n",
      "Add of existing embedding ID: e05d7f0c6013f556e729cbf4e9ba35b6701669343a1fe4041ec878bf03621b78\n",
      "Insert of existing embedding ID: e05d7f0c6013f556e729cbf4e9ba35b6701669343a1fe4041ec878bf03621b78\n",
      "Add of existing embedding ID: 75b689501e62c6c2f47d573a3557e791f54a12678a861a714260465807a42327\n",
      "Insert of existing embedding ID: 75b689501e62c6c2f47d573a3557e791f54a12678a861a714260465807a42327\n",
      "Add of existing embedding ID: 93123e4863aa8109602cb1232a913618f91923bc2a74ba79acca70c342e47b2e\n",
      "Insert of existing embedding ID: 93123e4863aa8109602cb1232a913618f91923bc2a74ba79acca70c342e47b2e\n",
      "Add of existing embedding ID: 1fb533c0193a311853e6689c286626e0b5d4b9833c6dd99bebc00011404e7af0\n",
      "Insert of existing embedding ID: 1fb533c0193a311853e6689c286626e0b5d4b9833c6dd99bebc00011404e7af0\n",
      "Add of existing embedding ID: e6197c610b92f32121da8f908ce338ea29c0f6d8bb5f8220dd531b518734db5f\n",
      "Insert of existing embedding ID: e6197c610b92f32121da8f908ce338ea29c0f6d8bb5f8220dd531b518734db5f\n",
      "Add of existing embedding ID: 779ab9b45b93bcafa2222b523a3a49f7a90cf4146049d1c28fd32446ecd9e3b5\n",
      "Insert of existing embedding ID: 779ab9b45b93bcafa2222b523a3a49f7a90cf4146049d1c28fd32446ecd9e3b5\n",
      "Add of existing embedding ID: 27eaf45c9079384087029105532caf1c2592213dfdac53b80f1908f5f80caa8e\n",
      "Insert of existing embedding ID: 27eaf45c9079384087029105532caf1c2592213dfdac53b80f1908f5f80caa8e\n",
      "Add of existing embedding ID: 3b07fa3d6e76653c3c15f1897c90a59b7b81845de74938117786ce41d7a07025\n",
      "Insert of existing embedding ID: 3b07fa3d6e76653c3c15f1897c90a59b7b81845de74938117786ce41d7a07025\n",
      "Add of existing embedding ID: e7b0247cabc63ec9487a95765f9cc6334032a463104dc768b9abd0f6959ca3ba\n",
      "Insert of existing embedding ID: e7b0247cabc63ec9487a95765f9cc6334032a463104dc768b9abd0f6959ca3ba\n",
      "Add of existing embedding ID: c4d1e7533acb0eedfeff760ad340032025a062f9847946c3ae339c67512e9f56\n",
      "Insert of existing embedding ID: c4d1e7533acb0eedfeff760ad340032025a062f9847946c3ae339c67512e9f56\n",
      "Add of existing embedding ID: c16334ab2655e5403f299d87943f4c3d55e31888cdbc90cc03a513bc1391b710\n",
      "Insert of existing embedding ID: c16334ab2655e5403f299d87943f4c3d55e31888cdbc90cc03a513bc1391b710\n",
      "Add of existing embedding ID: 8e23a3c3374776e91764ac32f9a4c1684fd4d472665e79410dd512dfb216f20e\n",
      "Insert of existing embedding ID: 8e23a3c3374776e91764ac32f9a4c1684fd4d472665e79410dd512dfb216f20e\n"
     ]
    },
    {
     "name": "stdout",
     "output_type": "stream",
     "text": [
      "He was 67 years old when he died.\n"
     ]
    }
   ],
   "source": [
    "import os\n",
    "import urllib.request\n",
    "from dotenv import load_dotenv\n",
    "from haystack import Pipeline, PredefinedPipeline\n",
    "\n",
    "load_dotenv()\n",
    "api_key = os.environ['OPENAI_API_KEY']\n",
    "\n",
    "urllib.request.urlretrieve(\"https://www.gutenberg.org/cache/epub/7785/pg7785.txt\", \"davinci.txt\")  \n",
    "\n",
    "indexing_pipeline =  Pipeline.from_template(PredefinedPipeline.INDEXING)\n",
    "indexing_pipeline.run(data={\"sources\": [\"davinci.txt\"]})\n",
    "\n",
    "rag_pipeline =  Pipeline.from_template(PredefinedPipeline.RAG)\n",
    "\n",
    "query = \"How old was he when he died?\"\n",
    "result = rag_pipeline.run(data={\"prompt_builder\": {\"query\":query}, \"text_embedder\": {\"text\": query}})\n",
    "print(result[\"llm\"][\"replies\"][0])"
   ]
  },
  {
   "cell_type": "code",
   "execution_count": 11,
   "metadata": {},
   "outputs": [
    {
     "name": "stderr",
     "output_type": "stream",
     "text": [
      "Calculating embeddings: 100%|██████████| 2/2 [00:42<00:00, 21.41s/it]\n",
      "Add of existing embedding ID: d33987463a24c325ea594307e4da30102305c09b5a529056b7c1c2db5677d833\n",
      "Insert of existing embedding ID: d33987463a24c325ea594307e4da30102305c09b5a529056b7c1c2db5677d833\n",
      "Add of existing embedding ID: e471effeb69e7c686510df375987a20824475332fbeeef16842549414ff173e0\n",
      "Insert of existing embedding ID: e471effeb69e7c686510df375987a20824475332fbeeef16842549414ff173e0\n",
      "Add of existing embedding ID: 2fe49708b8bdade00e8ef589035917254c5d18914cfedeee1ac053e7f9372d75\n",
      "Insert of existing embedding ID: 2fe49708b8bdade00e8ef589035917254c5d18914cfedeee1ac053e7f9372d75\n",
      "Add of existing embedding ID: 59f1aaf910fd118d6f9157454b75a356b44489bf2993d2ecbf6e5813da31996f\n",
      "Insert of existing embedding ID: 59f1aaf910fd118d6f9157454b75a356b44489bf2993d2ecbf6e5813da31996f\n",
      "Add of existing embedding ID: 2a175620e921b84aeaec6a6fb9faa18d2526c46bb1faac083cc273519b717d59\n",
      "Insert of existing embedding ID: 2a175620e921b84aeaec6a6fb9faa18d2526c46bb1faac083cc273519b717d59\n",
      "Add of existing embedding ID: c45ec5b54597146bb7da1a265662b84e94671b39fb74a303f5cfd1ffd1587010\n",
      "Insert of existing embedding ID: c45ec5b54597146bb7da1a265662b84e94671b39fb74a303f5cfd1ffd1587010\n",
      "Add of existing embedding ID: 4d276795ceabd2000a69215995c41603df35a72664b5020ab21d677130840480\n",
      "Insert of existing embedding ID: 4d276795ceabd2000a69215995c41603df35a72664b5020ab21d677130840480\n",
      "Add of existing embedding ID: 2d4973ac6a14e64cfda17389a9cf6072e213167aec01b7db3018718b591c64ca\n",
      "Insert of existing embedding ID: 2d4973ac6a14e64cfda17389a9cf6072e213167aec01b7db3018718b591c64ca\n",
      "Add of existing embedding ID: 4a36050881df54aa6c1be9e396ffa9d696c3cb77bdc99b0db897fbc14875e161\n",
      "Insert of existing embedding ID: 4a36050881df54aa6c1be9e396ffa9d696c3cb77bdc99b0db897fbc14875e161\n",
      "Add of existing embedding ID: dc0a263e258966d331b1bf4ff573f093a21414d230939b13b80fb5e3d6287d84\n",
      "Insert of existing embedding ID: dc0a263e258966d331b1bf4ff573f093a21414d230939b13b80fb5e3d6287d84\n",
      "Add of existing embedding ID: 1669833faaeeb3c8eed21d2674dbc4a7cad100dcd31f69e9d467050e3b63dc81\n",
      "Insert of existing embedding ID: 1669833faaeeb3c8eed21d2674dbc4a7cad100dcd31f69e9d467050e3b63dc81\n",
      "Add of existing embedding ID: 7a89f67c528e8fe38371a8187a2ae378eb873d17777060769a7ede21eb2c6b51\n",
      "Insert of existing embedding ID: 7a89f67c528e8fe38371a8187a2ae378eb873d17777060769a7ede21eb2c6b51\n",
      "Add of existing embedding ID: d9cf2ad6b31abb37440639cb7f572916992ddd92e62f6ba2380bf83c39d5b366\n",
      "Insert of existing embedding ID: d9cf2ad6b31abb37440639cb7f572916992ddd92e62f6ba2380bf83c39d5b366\n",
      "Add of existing embedding ID: 171ffb94d02be2d2ea153579b8b6cf1078a0e5df40a28b3679a0567a3170e730\n",
      "Insert of existing embedding ID: 171ffb94d02be2d2ea153579b8b6cf1078a0e5df40a28b3679a0567a3170e730\n",
      "Add of existing embedding ID: af0af0ac6ea0af3da8dd0f56654b513d37c629ea2ac11174636cb09d186873d6\n",
      "Insert of existing embedding ID: af0af0ac6ea0af3da8dd0f56654b513d37c629ea2ac11174636cb09d186873d6\n",
      "Add of existing embedding ID: c7733e85d49363138894a524f706e9de63d59724e5be6c8cb45f6d1b174c12e0\n",
      "Insert of existing embedding ID: c7733e85d49363138894a524f706e9de63d59724e5be6c8cb45f6d1b174c12e0\n",
      "Add of existing embedding ID: 975134af801d96cd592a455e6d2bfb93a1347cc1aa67bfb358fba301c8ab131b\n",
      "Insert of existing embedding ID: 975134af801d96cd592a455e6d2bfb93a1347cc1aa67bfb358fba301c8ab131b\n",
      "Add of existing embedding ID: dba7ecd85286f9038c87bb294a5ea018d1c11805c8b9d497819ac7a73bd4f34d\n",
      "Insert of existing embedding ID: dba7ecd85286f9038c87bb294a5ea018d1c11805c8b9d497819ac7a73bd4f34d\n",
      "Add of existing embedding ID: 23ffb956fd1ae50350e42cd44f36300abb1c8cf3c9a8560c213f0ea7deb3e20c\n",
      "Insert of existing embedding ID: 23ffb956fd1ae50350e42cd44f36300abb1c8cf3c9a8560c213f0ea7deb3e20c\n",
      "Add of existing embedding ID: e11d980bc54d0073b45f30e5bcead19b612a975a531cadcc3694c0fd2d28a860\n",
      "Insert of existing embedding ID: e11d980bc54d0073b45f30e5bcead19b612a975a531cadcc3694c0fd2d28a860\n",
      "Add of existing embedding ID: bf154bbb012fe0419b7a19d4d261da46df1732014e970a2fa07ab1b5a241d7ef\n",
      "Insert of existing embedding ID: bf154bbb012fe0419b7a19d4d261da46df1732014e970a2fa07ab1b5a241d7ef\n",
      "Add of existing embedding ID: 3d9cbf82fd3e3b0a0610bcaa0277e8628f288d8995590653c0063983d631633a\n",
      "Insert of existing embedding ID: 3d9cbf82fd3e3b0a0610bcaa0277e8628f288d8995590653c0063983d631633a\n",
      "Add of existing embedding ID: 31ee0d17eb68f10151166c22f41cb0a82f435186a4c9305c197ceba21ff2cb60\n",
      "Insert of existing embedding ID: 31ee0d17eb68f10151166c22f41cb0a82f435186a4c9305c197ceba21ff2cb60\n",
      "Add of existing embedding ID: 8b42b8d7d17f56308da9216648f6e2f543b679edd0b02fca2efe3db0195bfd68\n",
      "Insert of existing embedding ID: 8b42b8d7d17f56308da9216648f6e2f543b679edd0b02fca2efe3db0195bfd68\n",
      "Add of existing embedding ID: 0333d17fb8bd17f522ded10cb18f93ceda2b3dcf13912d1ceefef7401345c741\n",
      "Insert of existing embedding ID: 0333d17fb8bd17f522ded10cb18f93ceda2b3dcf13912d1ceefef7401345c741\n",
      "Add of existing embedding ID: 5a52c1417a257c8bac3a4847806a8640a5941f956ebdf7699fb1c7bdf8510fe5\n",
      "Insert of existing embedding ID: 5a52c1417a257c8bac3a4847806a8640a5941f956ebdf7699fb1c7bdf8510fe5\n",
      "Add of existing embedding ID: 595143c9eca684920447623f6ad1ff9e118f2b62ed2a2600555a85f63ce8bf89\n",
      "Insert of existing embedding ID: 595143c9eca684920447623f6ad1ff9e118f2b62ed2a2600555a85f63ce8bf89\n",
      "Add of existing embedding ID: 1140d10a025bf765ccc2a8c3714d2b5097d3d7250566602fe9c5d29956b829d9\n",
      "Insert of existing embedding ID: 1140d10a025bf765ccc2a8c3714d2b5097d3d7250566602fe9c5d29956b829d9\n",
      "Add of existing embedding ID: cbf936c6454e5c634c09ceb0771ace3c0ab4ba77bd0d8469cc6cb4a16f4b8454\n",
      "Insert of existing embedding ID: cbf936c6454e5c634c09ceb0771ace3c0ab4ba77bd0d8469cc6cb4a16f4b8454\n",
      "Add of existing embedding ID: 3ccf900d132e2e472f4f6245dfd9bec02d4058c9bfe724b5719d967661b6cb9a\n",
      "Insert of existing embedding ID: 3ccf900d132e2e472f4f6245dfd9bec02d4058c9bfe724b5719d967661b6cb9a\n",
      "Add of existing embedding ID: fc11425323384fee57d7642ae908515788817db0dcd5342ca64d52d108c4e6df\n",
      "Insert of existing embedding ID: fc11425323384fee57d7642ae908515788817db0dcd5342ca64d52d108c4e6df\n",
      "Add of existing embedding ID: 5037adc8b8233659cd54360109316a95ede6473190a5c734712e21ce02c53ea3\n",
      "Insert of existing embedding ID: 5037adc8b8233659cd54360109316a95ede6473190a5c734712e21ce02c53ea3\n",
      "Add of existing embedding ID: 32358d97dbfa3784c9aab243b8c85452616bb604ff18c5275fe4c4730b61717b\n",
      "Insert of existing embedding ID: 32358d97dbfa3784c9aab243b8c85452616bb604ff18c5275fe4c4730b61717b\n",
      "Add of existing embedding ID: 78853765c29367a17017bda23f0a96bc419239b36eabcbb7396940d57e3641c7\n",
      "Insert of existing embedding ID: 78853765c29367a17017bda23f0a96bc419239b36eabcbb7396940d57e3641c7\n",
      "Add of existing embedding ID: 24dbb1c08a9190059caca4ea682157efe13a27ce33d1ae0ebfa27eab5277c794\n",
      "Insert of existing embedding ID: 24dbb1c08a9190059caca4ea682157efe13a27ce33d1ae0ebfa27eab5277c794\n",
      "Add of existing embedding ID: 76e1730c231626cb18a3a76ca101ca2f655d467537db9ca93a1d7733810aaebf\n",
      "Insert of existing embedding ID: 76e1730c231626cb18a3a76ca101ca2f655d467537db9ca93a1d7733810aaebf\n",
      "Add of existing embedding ID: ec43c9544775830707c98f96f03ce036dedafa643cde70e5edeeb03648f6ec4d\n",
      "Insert of existing embedding ID: ec43c9544775830707c98f96f03ce036dedafa643cde70e5edeeb03648f6ec4d\n",
      "Add of existing embedding ID: 8a18961e9ee13accec6bae306ce0a7a18e592c59ea99fd665ff1da00652431a7\n",
      "Insert of existing embedding ID: 8a18961e9ee13accec6bae306ce0a7a18e592c59ea99fd665ff1da00652431a7\n",
      "Add of existing embedding ID: e05d7f0c6013f556e729cbf4e9ba35b6701669343a1fe4041ec878bf03621b78\n",
      "Insert of existing embedding ID: e05d7f0c6013f556e729cbf4e9ba35b6701669343a1fe4041ec878bf03621b78\n",
      "Add of existing embedding ID: 75b689501e62c6c2f47d573a3557e791f54a12678a861a714260465807a42327\n",
      "Insert of existing embedding ID: 75b689501e62c6c2f47d573a3557e791f54a12678a861a714260465807a42327\n",
      "Add of existing embedding ID: 93123e4863aa8109602cb1232a913618f91923bc2a74ba79acca70c342e47b2e\n",
      "Insert of existing embedding ID: 93123e4863aa8109602cb1232a913618f91923bc2a74ba79acca70c342e47b2e\n",
      "Add of existing embedding ID: 1fb533c0193a311853e6689c286626e0b5d4b9833c6dd99bebc00011404e7af0\n",
      "Insert of existing embedding ID: 1fb533c0193a311853e6689c286626e0b5d4b9833c6dd99bebc00011404e7af0\n",
      "Add of existing embedding ID: e6197c610b92f32121da8f908ce338ea29c0f6d8bb5f8220dd531b518734db5f\n",
      "Insert of existing embedding ID: e6197c610b92f32121da8f908ce338ea29c0f6d8bb5f8220dd531b518734db5f\n",
      "Add of existing embedding ID: 779ab9b45b93bcafa2222b523a3a49f7a90cf4146049d1c28fd32446ecd9e3b5\n",
      "Insert of existing embedding ID: 779ab9b45b93bcafa2222b523a3a49f7a90cf4146049d1c28fd32446ecd9e3b5\n",
      "Add of existing embedding ID: 27eaf45c9079384087029105532caf1c2592213dfdac53b80f1908f5f80caa8e\n",
      "Insert of existing embedding ID: 27eaf45c9079384087029105532caf1c2592213dfdac53b80f1908f5f80caa8e\n",
      "Add of existing embedding ID: 3b07fa3d6e76653c3c15f1897c90a59b7b81845de74938117786ce41d7a07025\n",
      "Insert of existing embedding ID: 3b07fa3d6e76653c3c15f1897c90a59b7b81845de74938117786ce41d7a07025\n",
      "Add of existing embedding ID: e7b0247cabc63ec9487a95765f9cc6334032a463104dc768b9abd0f6959ca3ba\n",
      "Insert of existing embedding ID: e7b0247cabc63ec9487a95765f9cc6334032a463104dc768b9abd0f6959ca3ba\n",
      "Add of existing embedding ID: c4d1e7533acb0eedfeff760ad340032025a062f9847946c3ae339c67512e9f56\n",
      "Insert of existing embedding ID: c4d1e7533acb0eedfeff760ad340032025a062f9847946c3ae339c67512e9f56\n",
      "Add of existing embedding ID: c16334ab2655e5403f299d87943f4c3d55e31888cdbc90cc03a513bc1391b710\n",
      "Insert of existing embedding ID: c16334ab2655e5403f299d87943f4c3d55e31888cdbc90cc03a513bc1391b710\n",
      "Add of existing embedding ID: 8e23a3c3374776e91764ac32f9a4c1684fd4d472665e79410dd512dfb216f20e\n",
      "Insert of existing embedding ID: 8e23a3c3374776e91764ac32f9a4c1684fd4d472665e79410dd512dfb216f20e\n"
     ]
    },
    {
     "name": "stdout",
     "output_type": "stream",
     "text": [
      "Leonardo da Vinci was 67 years old when he died.\n"
     ]
    }
   ],
   "source": [
    "import os\n",
    "import urllib.request\n",
    "from haystack import Pipeline\n",
    "from dotenv import load_dotenv\n",
    "from haystack_integrations.document_stores.chroma import ChromaDocumentStore\n",
    "from haystack.components.converters import TextFileToDocument\n",
    "from haystack.components.preprocessors import DocumentCleaner, DocumentSplitter\n",
    "from haystack.components.embedders import OpenAIDocumentEmbedder, OpenAITextEmbedder\n",
    "from haystack.components.writers import DocumentWriter\n",
    "from haystack_integrations.components.retrievers.chroma import ChromaEmbeddingRetriever\n",
    "from haystack.components.builders import PromptBuilder\n",
    "from haystack.components.generators import OpenAIGenerator\n",
    "\n",
    "load_dotenv()\n",
    "api_key = os.environ['OPENAI_API_KEY']\n",
    "\n",
    "urllib.request.urlretrieve(\"https://www.gutenberg.org/cache/epub/7785/pg7785.txt\", \"davinci.txt\")  \n",
    "\n",
    "document_store = ChromaDocumentStore(persist_path=\".\")\n",
    "\n",
    "text_file_converter = TextFileToDocument()\n",
    "cleaner = DocumentCleaner()\n",
    "splitter = DocumentSplitter()\n",
    "embedder = OpenAIDocumentEmbedder()\n",
    "writer = DocumentWriter(document_store)\n",
    "\n",
    "indexing_pipeline = Pipeline()\n",
    "indexing_pipeline.add_component(\"converter\", text_file_converter)\n",
    "indexing_pipeline.add_component(\"cleaner\", cleaner)\n",
    "indexing_pipeline.add_component(\"splitter\", splitter)\n",
    "indexing_pipeline.add_component(\"embedder\", embedder)\n",
    "indexing_pipeline.add_component(\"writer\", writer)\n",
    "\n",
    "indexing_pipeline.connect(\"converter.documents\", \"cleaner.documents\")\n",
    "indexing_pipeline.connect(\"cleaner.documents\", \"splitter.documents\")\n",
    "indexing_pipeline.connect(\"splitter.documents\", \"embedder.documents\")\n",
    "indexing_pipeline.connect(\"embedder.documents\", \"writer.documents\")\n",
    "indexing_pipeline.run(data={\"sources\": [\"davinci.txt\"]})\n",
    "\n",
    "text_embedder = OpenAITextEmbedder()\n",
    "retriever = ChromaEmbeddingRetriever(document_store)\n",
    "template = \"\"\"Given these documents, answer the question.\n",
    "              Documents:\n",
    "              {% for doc in documents %}\n",
    "                  {{ doc.content }}\n",
    "              {% endfor %}\n",
    "              Question: {{query}}\n",
    "              Answer:\"\"\"\n",
    "prompt_builder = PromptBuilder(template=template)\n",
    "llm = OpenAIGenerator()\n",
    "\n",
    "rag_pipeline = Pipeline()\n",
    "rag_pipeline.add_component(\"text_embedder\", text_embedder)\n",
    "rag_pipeline.add_component(\"retriever\", retriever)\n",
    "rag_pipeline.add_component(\"prompt_builder\", prompt_builder)\n",
    "rag_pipeline.add_component(\"llm\", llm)\n",
    "\n",
    "rag_pipeline.connect(\"text_embedder.embedding\", \"retriever.query_embedding\")\n",
    "rag_pipeline.connect(\"retriever.documents\", \"prompt_builder.documents\")\n",
    "rag_pipeline.connect(\"prompt_builder\", \"llm\")\n",
    "\n",
    "query = \"How old was he when he died?\"\n",
    "result = rag_pipeline.run(data={\"prompt_builder\": {\"query\":query}, \"text_embedder\": {\"text\": query}})\n",
    "print(result[\"llm\"][\"replies\"][0])"
   ]
  },
  {
   "cell_type": "markdown",
   "metadata": {},
   "source": [
    "<p align=\"center\">\n",
    "  <img src=\"../../data/docs-data/overview/construa-seu-primeiro-pipeline-rag-indexacao.png\" alt=\"Construa seu primeiro pipeline RAG - Pipeline de indexação\">\n",
    "  <img src=\"../../data/docs-data/overview/construa-seu-primeiro-pipeline-rag-rag.png\" alt=\"Construa seu primeiro pipeline RAG - Pipeline de RAG\">\n",
    "</p>"
   ]
  }
 ],
 "metadata": {
  "kernelspec": {
   "display_name": "venv",
   "language": "python",
   "name": "python3"
  },
  "language_info": {
   "codemirror_mode": {
    "name": "ipython",
    "version": 3
   },
   "file_extension": ".py",
   "mimetype": "text/x-python",
   "name": "python",
   "nbconvert_exporter": "python",
   "pygments_lexer": "ipython3",
   "version": "3.10.12"
  }
 },
 "nbformat": 4,
 "nbformat_minor": 2
}
