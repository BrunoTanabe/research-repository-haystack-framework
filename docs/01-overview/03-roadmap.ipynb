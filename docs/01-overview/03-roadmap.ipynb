{
 "cells": [
  {
   "cell_type": "markdown",
   "metadata": {},
   "source": [
    "# Roadmap Haystack"
   ]
  },
  {
   "cell_type": "markdown",
   "metadata": {},
   "source": [
    "## 1. Roadmap\n",
    "\n",
    "Os criadores do Haystack acreditam que código-fonte aberto é mais do que código-fonte aberto. É questão de colaboração, transparência e confiança. Portanto, decidiram ser o mais abertos possível com o roadmap. É possível ver todos os itens do roadmap trimestral no GitHub. Eles esperam que isso ajude a esclarecer a direção do projeto de código aberto e inspire discussões na comunidade.\n",
    "\n",
    "O [roadmap mais recente](https://github.com/orgs/deepset-ai/projects/3/views/1) está hospedado no Github. Nele é possível ver os projetos de alto nível que planejaram para os próximos trimestres. Eles atualizam regularmente e refinam os projetos à medida que a data de início se aproxima."
   ]
  },
  {
   "cell_type": "markdown",
   "metadata": {},
   "source": [
    "<p align=\"center\">\n",
    "  <img src=\"../../data/docs-data/overview/roadmap.png\" alt=\"Roadmap\">\n",
    "</p>"
   ]
  }
 ],
 "metadata": {
  "language_info": {
   "name": "python"
  }
 },
 "nbformat": 4,
 "nbformat_minor": 2
}
