{
 "cells": [
  {
   "cell_type": "markdown",
   "metadata": {},
   "source": [
    "# Telemetria\n",
    "\n",
    "Haystack depende de estatísticas de uso anônimas para melhorar continuamente. É por isso que algumas informações, como o tipo de armazenamento de documentos utilizado, são compartilhadas automaticamente."
   ]
  },
  {
   "cell_type": "markdown",
   "metadata": {},
   "source": [
    "## 1. Que informações são compartilhadas?\n",
    "\n",
    "A telemetria no Haystack compreende estatísticas de uso anônimas de componentes básicos, como DocumentStore, Retriever, Reader ou qualquer outro componente de pipeline. Eles recebem um evento sempre que esses componentes são inicializados. Dessa forma, eles sabem quais componentes são mais relevantes para comunidade. Pelo mesmo motivo, um evento também é enviado quando um dos tutoriais é executado."
   ]
  },
  {
   "cell_type": "markdown",
   "metadata": {},
   "source": [
    "Cada evento contém um ID de usuário anônimo gerado aleatoriamente (uuid) e uma coleção de propriedades sobre seu ambiente de execução. Eles nunca contêm propriedades que possam ser usadas para identificá-lo, como:\n",
    "\n",
    "- Endereços IP\n",
    "- Nomes de host\n",
    "- Caminhos de arquivo\n",
    "- Consultas\n",
    "- Conteúdo do documento\n",
    "\n",
    "Ao seguir as etapas acima, eles garantem que apenas dados anonimizados sejam transmitidos ao servidor de telemetria."
   ]
  },
  {
   "cell_type": "markdown",
   "metadata": {},
   "source": [
    "\n",
    "Aqui está um evento exemplar que é enviado quando o tutorial 1 é executado executando :Tutorial1_Basic_QA_Pipeline.py\n",
    "\n",
    "```json\n",
    "    {\n",
    "    \"event\": \"tutorial 1 executed\",\n",
    "    \"distinct_id\": \"9baab867-3bc8-438c-9974-a192c9d53cd1\",\n",
    "    \"properties\": {\n",
    "        \"os_family\": \"Darwin\",\n",
    "        \"os_machine\": \"arm64\",\n",
    "        \"os_version\": \"21.3.0\",\n",
    "        \"haystack_version\": \"1.0.0\",\n",
    "        \"python_version\": \"3.9.6\",\n",
    "        \"torch_version\": \"1.9.0\",\n",
    "        \"transformers_version\": \"4.13.0\",\n",
    "        \"execution_env\": \"script\",\n",
    "        \"n_gpu\": 0,\n",
    "    },\n",
    "}\n",
    "```\n",
    "\n",
    "O  código de telemetria pode ser inspecionado diretamente no [GitHub](https://github.com/deepset-ai/haystack/blob/5d66d040cc303ab49225587cd61290f1987a5d1f/haystack/telemetry/_telemetry.py)."
   ]
  },
  {
   "cell_type": "markdown",
   "metadata": {},
   "source": [
    "## 2. Como a telemetria ajuda?\n",
    "\n",
    "Com a telemetria eles entendem as necessidades da comunidade, como “Quais nós de pipeline são mais populares?”, “Devem se concentrar no suporte a um armazenamento de documentos específico?”, “Quantas pessoas usam o Haystack no Windows?” são algumas das perguntas que a telemetria ajuda a responder. Os metadados sobre o sistema operacional e as dependências instaladas os permitem identificar e resolver rapidamente problemas causados ​​por configurações específicas.\n",
    "\n",
    "Resumindo, ao compartilhar essas informações, fica mais fácil melhorar continuamente o Haystack."
   ]
  },
  {
   "cell_type": "markdown",
   "metadata": {},
   "source": [
    "## Como cancelar?\n",
    "\n",
    "É possível desativar a telemetria com um dos seguintes métodos:"
   ]
  },
  {
   "cell_type": "markdown",
   "metadata": {},
   "source": [
    "### Através de uma variável de ambiente\n",
    "\n",
    "É possível desabilitar a telemetria definindo a variável de ambiente HAYSTACK_TELEMETRY_ENABLED como \"False\"."
   ]
  },
  {
   "cell_type": "markdown",
   "metadata": {},
   "source": [
    "### Usando um shell Bash\n",
    "\n",
    "Ao utilizar o shell bash, basta adicionar a seguinte linha ao arquivo .~/.bashrcexport para desabilitar a telemetria:  HAYSTACK_TELEMETRY_ENABLED=False"
   ]
  },
  {
   "cell_type": "markdown",
   "metadata": {},
   "source": [
    "### Usando o ZDH\n",
    "\n",
    "Ao utilizar zsh como shell, por exemplo, no macOS, basta adicionar a seguinte linha ao arquivo : .~/.zshrcexport HAYSTACK_TELEMETRY_ENABLED=False"
   ]
  },
  {
   "cell_type": "markdown",
   "metadata": {},
   "source": [
    "### No Windows\n",
    "\n",
    "Para desabilitar a telemetria no Windows, basta definir uma variável de ambiente no nível do usuário executando este comando no prompt de comando padrão: .setx HAYSTACK_TELEMETRY_ENABLED \"False\"\n",
    "\n",
    "Como alternativa, execute o seguinte comando no Windows PowerShell: .[Environment]::SetEnvironmentVariable(\"HAYSTACK_TELEMETRY_ENABLED\",\"False\",\"User\")\n",
    "\n",
    "Talvez seja necessário reiniciar o sistema operacional para que o comando entre em vigor."
   ]
  }
 ],
 "metadata": {
  "language_info": {
   "name": "python"
  }
 },
 "nbformat": 4,
 "nbformat_minor": 2
}
