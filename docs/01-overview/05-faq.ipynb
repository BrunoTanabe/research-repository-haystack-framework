{
 "cells": [
  {
   "cell_type": "markdown",
   "metadata": {},
   "source": [
    "# FAQ Haystack\n",
    "Aqui estão as respostas às perguntas que as pessoas fazem frequentemente sobre o Haystack."
   ]
  },
  {
   "cell_type": "markdown",
   "metadata": {},
   "source": [
    "## 1. Como posso ter certeza de que minha GPU está ativada quando uso o Haystack?\n",
    "É importante garantir que uma GPU habilitada para CUDA esteja sendo ativada quando o Haystack estiver em execução (É possível verificar executando na linha de comando). Componentes que podem ser acelerados pela GPU possuem um argumento em seu construtor que você deseja definir como \n",
    "```python\n",
    ".nvidia-smi -luse_gpuTrue\n",
    "```"
   ]
  },
  {
   "cell_type": "markdown",
   "metadata": {},
   "source": [
    "## 2. O uso no Haystack monitorado?\n",
    "O framework coleta apenas estatísticas de uso anônimas dos componentes do Haystack Pipeline. É possível ver mais sobre telemetria no Haystack ou como cancelar ela na página [Telemetria](https://docs.haystack.deepset.ai/docs/telemetry)."
   ]
  },
  {
   "cell_type": "markdown",
   "metadata": {},
   "source": [
    "## 3. Como desativar as barras de progresso no Haystack?\n",
    "Para desabilitar todas as barras de progresso do Haystack de uma vez, é possível definir uma variável de ambiente chamada HAYSTACK_PROGRESS_BARS para 0, False, FALSE ou false.\n"
   ]
  },
  {
   "cell_type": "markdown",
   "metadata": {},
   "source": [
    "## 4. Qual o objetivo do framework Haystack?\n",
    "\n",
    "O objetivo do framework Haystack é fornecer uma plataforma aberta e flexível para a construção de sistemas avançados de busca e resposta a perguntas (Question Answering, QA) sobre grandes conjuntos de dados textuais. Ele facilita a implementação de pipelines de processamento de linguagem natural (PLN) que permitem aos usuários extrair informações relevantes, responder a perguntas de forma precisa e realizar buscas semânticas em documentos de texto.\n",
    "\n",
    "Haystack é projetado para ser agnóstico em relação a modelos e frameworks, permitindo a integração fácil de diferentes modelos de linguagem e algoritmos de busca, incluindo suporte para modelos de inteligência artificial de última geração, como os baseados em transformers. Com Haystack, desenvolvedores e cientistas de dados podem:\n",
    "\n",
    "- **Construir sistemas de busca semântica**: Além de buscas baseadas em palavras-chave, Haystack permite implementar buscas semânticas que compreendem o significado do texto para retornar resultados mais relevantes.\n",
    "- **Desenvolver sistemas de resposta a perguntas**: Capacita a criação de sistemas QA que podem compreender perguntas em linguagem natural e buscar nas bases de dados as respostas mais precisas.\n",
    "- **Orquestrar pipelines de PLN**: Permite a construção de pipelines complexos de PLN com facilidade, integrando diferentes componentes como processadores de texto, modelos de embutimento (embedding models), e mecanismos de recuperação e classificação.\n",
    "- **Facilitar o trabalho com dados não estruturados**: Oferece ferramentas para trabalhar eficientemente com grandes volumes de dados textuais não estruturados, tornando mais acessível a extração de insights e informações valiosas.\n",
    "\n",
    "O Haystack é particularmente útil em contextos onde há a necessidade de acessar rapidamente informações específicas contidas em grandes volumes de documentos, como manuais técnicos, literatura científica, registros legais, ou arquivos de notícias, otimizando processos de tomada de decisão e pesquisa."
   ]
  }
 ],
 "metadata": {
  "language_info": {
   "name": "python"
  }
 },
 "nbformat": 4,
 "nbformat_minor": 2
}
