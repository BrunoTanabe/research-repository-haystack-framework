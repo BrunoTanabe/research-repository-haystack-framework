{
 "cells": [
  {
   "cell_type": "markdown",
   "metadata": {},
   "source": [
    "# FAQ Haystack\n",
    "Aqui estão as respostas às perguntas que as pessoas fazem frequentemente sobre o Haystack."
   ]
  },
  {
   "cell_type": "markdown",
   "metadata": {},
   "source": [
    "## 1. Como posso ter certeza de que minha GPU está ativada quando uso o Haystack?\n",
    "É importante garantir que uma GPU habilitada para CUDA esteja sendo ativada quando o Haystack estiver em execução (É possível verificar executando na linha de comando). Componentes que podem ser acelerados pela GPU possuem um argumento em seu construtor que você deseja definir como \n",
    "```python\n",
    ".nvidia-smi -luse_gpuTrue\n",
    "```"
   ]
  },
  {
   "cell_type": "markdown",
   "metadata": {},
   "source": [
    "## 2. O uso no Haystack monitorado?\n",
    "O framework coleta apenas estatísticas de uso anônimas dos componentes do Haystack Pipeline. É possível ver mais sobre telemetria no Haystack ou como cancelar ela na página [Telemetria](https://docs.haystack.deepset.ai/docs/telemetry)."
   ]
  },
  {
   "cell_type": "markdown",
   "metadata": {},
   "source": [
    "## 3. Como desativar as barras de progresso no Haystack?\n",
    "Para desabilitar todas as barras de progresso do Haystack de uma vez, é possível definir uma variável de ambiente chamada HAYSTACK_PROGRESS_BARS para 0, False, FALSE ou false.\n"
   ]
  }
 ],
 "metadata": {
  "language_info": {
   "name": "python"
  }
 },
 "nbformat": 4,
 "nbformat_minor": 2
}
