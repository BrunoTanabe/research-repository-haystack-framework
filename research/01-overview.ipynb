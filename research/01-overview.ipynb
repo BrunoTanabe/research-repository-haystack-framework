{
 "cells": [
  {
   "cell_type": "markdown",
   "metadata": {},
   "source": [
    "# Overview Haystack"
   ]
  },
  {
   "cell_type": "markdown",
   "metadata": {},
   "source": [
    "## 1. O que é Haystack?\n",
    "\n",
    "Haystack é um framework de Python de código aberto da deepset para a construção de aplicativos personalizados com grandes modelos de linguagem (LLMs). Ele permite experimentar rapidamente os modelos mais recentes em processamento de linguagem natural (PLN), ao mesmo tempo que é flexível e fácil de usar. A comunidade de usuários e construtores ajudou a transformar o Haystack no que é hoje: um framework completo para a construção de aplicativos de PLN prontos para produção."
   ]
  },
  {
   "cell_type": "markdown",
   "metadata": {},
   "source": [
    "##  2. Construindo com o Haystack\n",
    "\n",
    "Haystack oferece ferramentas abrangentes para o desenvolvimento de sistemas de PLN de última geração que usam LLMs (como GPT-4, Falcon e similares) e modelos Transformer. Com Haystack, é possível experimentar sem esforço vários modelos hospedados em plataformas como Hugging Face, OpenAI, Cohere ou até mesmo modelos implantados no SageMaker e modelos locais para encontrar o ajuste perfeito para o caso de uso."
   ]
  },
  {
   "cell_type": "markdown",
   "metadata": {},
   "source": [
    "<p align=\"center\">\n",
    "  <img src=\"../data/research-data/construindo_com_haystack.png\" alt=\"Construindo com o Haystack\">\n",
    "</p>"
   ]
  },
  {
   "cell_type": "markdown",
   "metadata": {},
   "source": [
    "Alguns exemplos do que é possível construir incluem:\n",
    "\n",
    "- **Pesquisa semântica** em uma grande coleção de documentos em qualquer idioma\n",
    "- **Resposta generativa** a perguntas em uma base de conhecimento contendo tipos mistos de informações: imagens, texto e tabelas.\n",
    "- **Chatbots de linguagem natural** alimentados por modelos generativos de ponta como GPT-4\n",
    "- Um **agente** Haystack baseado em LLM capaz de resolver consultas complexas\n",
    "- **Extração de informações** de documentos para preencher um banco de dados ou construir um gráfico de conhecimento\n",
    "\n",
    "Este é apenas um pequeno subconjunto dos tipos de sistemas que podem ser criados no Haystack."
   ]
  },
  {
   "cell_type": "markdown",
   "metadata": {},
   "source": [
    "## 3. Funcionalidade para todas as etapas de um projeto de PLN\n",
    "\n",
    "Um projeto de PNL bem-sucedido requer mais do que apenas modelos de linguagem. Com uma estrutura ponta a ponta, Haystack auxilia na construção de um sistema em cada etapa do processo, oferecendo ferramentas para cada estágio do ciclo de vida do projeto de PLN:"
   ]
  },
  {
   "cell_type": "markdown",
   "metadata": {},
   "source": [
    "- Implantação fácil de modelos da Hugging Face ou de outros fornecedores no pipeline de PNL\n",
    "- Crie templates dinâmicos para prompts de LLM\n",
    "- Funções de limpeza e pré-processamento para vários formatos e fontes\n",
    "- [Integrações perfeitas com seu armazenamento de documentos preferido](https://docs.haystack.deepset.ai/docs/document-store) (incluindo muitos bancos de dados vetoriais populares como Faiss, Pinecone, Qdrant ou Weaviate): mantém aplicativos baseados em PNL atualizados com as pipelines de indexação do Haystack que ajudam a preparar e manter os dados\n",
    "- A [ferramenta de anotação gratuita](https://docs.haystack.deepset.ai/docs/annotation) para um processo de anotação mais rápido e estruturado\n",
    "- Ferramentas para fine-tuning de um modelo de linguagem pré-treinado\n",
    "- Pipelines de avaliação especializados que usam métricas diferentes para avaliar todo o sistema ou seus componentes individuais\n",
    "- API REST do Haystack para implantar no sistema final para que seja possível possa consultá-lo com uma interface voltada para o usuário\n",
    "\n",
    "Mas isso não é tudo: filtragem de metadados, destilação de modelo ou hub de prompt, o que quer que seu coração de PLN deseje, você provavelmente encontrará no Haystack."
   ]
  },
  {
   "cell_type": "markdown",
   "metadata": {},
   "source": [
    "<p align=\"center\">\n",
    "  <img src=\"../data/research-data/funcionalidade-para-todas-etapas-do-projeto-PNL.png\" alt=\"Funcionalidade para todas as etapas de um projeto de PNL\">\n",
    "</p>"
   ]
  },
  {
   "cell_type": "markdown",
   "metadata": {},
   "source": [
    "## 4. Blocos de construção\n",
    "\n",
    "Haystack usa alguns conceitos simples, mas eficazes para ajudar a construir sistemas de PLN totalmente funcionais e personalizados de ponta a ponta."
   ]
  },
  {
   "cell_type": "markdown",
   "metadata": {},
   "source": [
    "### 4.1 Components\n",
    "\n",
    "No centro do Haystack estão seus componentes – blocos de construção fundamentais que podem executar tarefas como recuperação de documentos, geração de texto ou resumo. Um único componente já é bastante poderoso. Ele pode gerenciar modelos de idioma local ou comunicar-se com um modelo hospedado por meio de uma API.\n",
    "\n",
    "Embora o Haystack ofereça vários componentes que você pode usar imediatamente, ele também permite criar seus próprios componentes personalizados. Explore a coleção de integrações que inclui componentes personalizados desenvolvidos pela nossa comunidade, que você pode usar livremente.\n",
    "\n",
    "Você pode encadear componentes para construir pipelines, que são a base da arquitetura do aplicativo PLN no Haystack."
   ]
  },
  {
   "cell_type": "markdown",
   "metadata": {},
   "source": [
    "### 4.2 Pipelines\n",
    "\n",
    "Pipelines são estruturas poderosas compostas de componentes, como Retriever e Reader, conectados a blocos de construção de infraestrutura, como DocumentStore (por exemplo, Elasticsearch ou Weaviate) para formar sistemas complexos.\n",
    "\n",
    "Haystack oferece pipelines prontos para as tarefas mais comuns, como resposta a perguntas, recuperação de documentos ou resumo. Mas é igualmente fácil projetar e criar um pipeline personalizado para cenários de PNL que são muito mais complexos do que responder a perguntas."
   ]
  },
  {
   "cell_type": "markdown",
   "metadata": {},
   "source": [
    "### 4.3 Agents\n",
    "\n",
    "O Haystack Agent utiliza um grande modelo de linguagem para resolver tarefas complexas. Ao inicializar o Agent, você fornece a ele um conjunto de ferramentas, que podem ser componentes de pipeline ou pipelines inteiros. O Agent pode usar essas ferramentas iterativamente para chegar a uma resposta. Ao receber uma consulta, o Agent determina quais ferramentas são úteis para responder a essa consulta e as chama em um loop até obter a resposta. Dessa forma, ele pode alcançar muito mais do que pipelines extrativos ou generativos de resposta a perguntas."
   ]
  },
  {
   "cell_type": "markdown",
   "metadata": {},
   "source": [
    "<p align=\"center\">\n",
    "  <img src=\"../data/research-data//agents.png\" alt=\"Agents\">\n",
    "</p>"
   ]
  },
  {
   "cell_type": "markdown",
   "metadata": {},
   "source": [
    "## 5. Para Quem é o Haystack?\n",
    "\n",
    "Haystack é para todos que desejam criar aplicativos de linguagem natural - entusiastas de PNL e novatos. Você não precisa entender como os modelos funcionam nos bastidores. Com os componentes, pipelines e agentes modulares e flexíveis do Haystack, tudo que você precisa é de algum conhecimento básico de Python para mergulhar de cabeça."
   ]
  },
  {
   "cell_type": "markdown",
   "metadata": {},
   "source": [
    "## 6. A Comunidade\n",
    "No coração do Haystack está a comunidade de código aberto que prospera com as diversas origens e conjuntos de habilidades de seus membros. Valorizam muito a colaboração e incentivam os usuários a moldar ativamente o Haystack por meio de contribuições do GitHub. O canal do Discord é um espaço onde os membros da comunidade podem se conectar, buscar ajuda e aprender uns com os outros. Também organizam eventos ao vivo online e presenciais, webinars e horários de expediente, que são uma oportunidade de aprender e crescer."
   ]
  },
  {
   "cell_type": "markdown",
   "metadata": {},
   "source": [
    "## 7. Links Importantes:\n",
    "- [Overview](https://haystack.deepset.ai/overview/intro)\n",
    "- [Documentação](https://docs.haystack.deepset.ai/docs/intro)\n",
    "- [Tutoriais](https://docs.haystack.deepset.ai/docs/intro)\n",
    "- [Repositório GitHub](https://github.com/deepset-ai/haystack)\n",
    "- [Blog Haystack](https://haystack.deepset.ai/blog)"
   ]
  }
 ],
 "metadata": {
  "kernelspec": {
   "display_name": "venv",
   "language": "python",
   "name": "python3"
  },
  "language_info": {
   "name": "python",
   "version": "3.10.12"
  }
 },
 "nbformat": 4,
 "nbformat_minor": 2
}
